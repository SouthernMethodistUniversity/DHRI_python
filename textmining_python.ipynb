{
 "cells": [
  {
   "cell_type": "markdown",
   "metadata": {
    "toc": "true"
   },
   "source": [
    "# Table of Contents\n",
    " <p><div class=\"lev1 toc-item\"><a href=\"#Introduction-to-Natural-Language-Processing-with-Python\" data-toc-modified-id=\"Introduction-to-Natural-Language-Processing-with-Python-1\"><span class=\"toc-item-num\">1&nbsp;&nbsp;</span>Introduction to Natural Language Processing with Python</a></div><div class=\"lev1 toc-item\"><a href=\"#Intro-to-Python-Basics\" data-toc-modified-id=\"Intro-to-Python-Basics-2\"><span class=\"toc-item-num\">2&nbsp;&nbsp;</span>Intro to Python Basics</a></div><div class=\"lev2 toc-item\"><a href=\"#Operating-this-notebook\" data-toc-modified-id=\"Operating-this-notebook-2.1\"><span class=\"toc-item-num\">2.1&nbsp;&nbsp;</span>Operating this notebook</a></div><div class=\"lev3 toc-item\"><a href=\"#Basic-Math\" data-toc-modified-id=\"Basic-Math-2.1.1\"><span class=\"toc-item-num\">2.1.1&nbsp;&nbsp;</span>Basic Math</a></div><div class=\"lev2 toc-item\"><a href=\"#Variables-and-Objects\" data-toc-modified-id=\"Variables-and-Objects-2.2\"><span class=\"toc-item-num\">2.2&nbsp;&nbsp;</span>Variables and Objects</a></div><div class=\"lev3 toc-item\"><a href=\"#Dictionaries\" data-toc-modified-id=\"Dictionaries-2.2.1\"><span class=\"toc-item-num\">2.2.1&nbsp;&nbsp;</span>Dictionaries</a></div><div class=\"lev2 toc-item\"><a href=\"#Loops-and-Functions\" data-toc-modified-id=\"Loops-and-Functions-2.3\"><span class=\"toc-item-num\">2.3&nbsp;&nbsp;</span>Loops and Functions</a></div><div class=\"lev3 toc-item\"><a href=\"#Loops\" data-toc-modified-id=\"Loops-2.3.1\"><span class=\"toc-item-num\">2.3.1&nbsp;&nbsp;</span>Loops</a></div><div class=\"lev3 toc-item\"><a href=\"#Functions\" data-toc-modified-id=\"Functions-2.3.2\"><span class=\"toc-item-num\">2.3.2&nbsp;&nbsp;</span>Functions</a></div><div class=\"lev2 toc-item\"><a href=\"#DataFrames-and-Pandas\" data-toc-modified-id=\"DataFrames-and-Pandas-2.4\"><span class=\"toc-item-num\">2.4&nbsp;&nbsp;</span>DataFrames and Pandas</a></div><div class=\"lev2 toc-item\"><a href=\"#Plotting\" data-toc-modified-id=\"Plotting-2.5\"><span class=\"toc-item-num\">2.5&nbsp;&nbsp;</span>Plotting</a></div><div class=\"lev1 toc-item\"><a href=\"#Text-Mining-Basics\" data-toc-modified-id=\"Text-Mining-Basics-3\"><span class=\"toc-item-num\">3&nbsp;&nbsp;</span>Text Mining Basics</a></div><div class=\"lev2 toc-item\"><a href=\"#Setup\" data-toc-modified-id=\"Setup-3.1\"><span class=\"toc-item-num\">3.1&nbsp;&nbsp;</span>Setup</a></div><div class=\"lev2 toc-item\"><a href=\"#Counting-Words-and-Characters\" data-toc-modified-id=\"Counting-Words-and-Characters-3.2\"><span class=\"toc-item-num\">3.2&nbsp;&nbsp;</span>Counting Words and Characters</a></div><div class=\"lev3 toc-item\"><a href=\"#Count-Stopwords\" data-toc-modified-id=\"Count-Stopwords-3.2.1\"><span class=\"toc-item-num\">3.2.1&nbsp;&nbsp;</span>Count Stopwords</a></div><div class=\"lev3 toc-item\"><a href=\"#Other-Ways-to-Count\" data-toc-modified-id=\"Other-Ways-to-Count-3.2.2\"><span class=\"toc-item-num\">3.2.2&nbsp;&nbsp;</span>Other Ways to Count</a></div><div class=\"lev4 toc-item\"><a href=\"#Counting-Special-Characters\" data-toc-modified-id=\"Counting-Special-Characters-3.2.2.1\"><span class=\"toc-item-num\">3.2.2.1&nbsp;&nbsp;</span>Counting Special Characters</a></div><div class=\"lev4 toc-item\"><a href=\"#Counting-Numbers\" data-toc-modified-id=\"Counting-Numbers-3.2.2.2\"><span class=\"toc-item-num\">3.2.2.2&nbsp;&nbsp;</span>Counting Numbers</a></div><div class=\"lev4 toc-item\"><a href=\"#Counting-Uppercase\" data-toc-modified-id=\"Counting-Uppercase-3.2.2.3\"><span class=\"toc-item-num\">3.2.2.3&nbsp;&nbsp;</span>Counting Uppercase</a></div><div class=\"lev1 toc-item\"><a href=\"#Processing-Text\" data-toc-modified-id=\"Processing-Text-4\"><span class=\"toc-item-num\">4&nbsp;&nbsp;</span>Processing Text</a></div><div class=\"lev2 toc-item\"><a href=\"#Cleaning-Up-Words\" data-toc-modified-id=\"Cleaning-Up-Words-4.1\"><span class=\"toc-item-num\">4.1&nbsp;&nbsp;</span>Cleaning Up Words</a></div><div class=\"lev3 toc-item\"><a href=\"#Lowercase\" data-toc-modified-id=\"Lowercase-4.1.1\"><span class=\"toc-item-num\">4.1.1&nbsp;&nbsp;</span>Lowercase</a></div><div class=\"lev3 toc-item\"><a href=\"#Remove-Punctuation\" data-toc-modified-id=\"Remove-Punctuation-4.1.2\"><span class=\"toc-item-num\">4.1.2&nbsp;&nbsp;</span>Remove Punctuation</a></div><div class=\"lev3 toc-item\"><a href=\"#Remove-Stopwords\" data-toc-modified-id=\"Remove-Stopwords-4.1.3\"><span class=\"toc-item-num\">4.1.3&nbsp;&nbsp;</span>Remove Stopwords</a></div><div class=\"lev3 toc-item\"><a href=\"#Remove-Frequent-Words\" data-toc-modified-id=\"Remove-Frequent-Words-4.1.4\"><span class=\"toc-item-num\">4.1.4&nbsp;&nbsp;</span>Remove Frequent Words</a></div><div class=\"lev3 toc-item\"><a href=\"#Remove-Rare-Words\" data-toc-modified-id=\"Remove-Rare-Words-4.1.5\"><span class=\"toc-item-num\">4.1.5&nbsp;&nbsp;</span>Remove Rare Words</a></div><div class=\"lev3 toc-item\"><a href=\"#Correct-Spelling\" data-toc-modified-id=\"Correct-Spelling-4.1.6\"><span class=\"toc-item-num\">4.1.6&nbsp;&nbsp;</span>Correct Spelling</a></div><div class=\"lev3 toc-item\"><a href=\"#Tokenization\" data-toc-modified-id=\"Tokenization-4.1.7\"><span class=\"toc-item-num\">4.1.7&nbsp;&nbsp;</span>Tokenization</a></div><div class=\"lev2 toc-item\"><a href=\"#Stemming\" data-toc-modified-id=\"Stemming-4.2\"><span class=\"toc-item-num\">4.2&nbsp;&nbsp;</span>Stemming</a></div><div class=\"lev2 toc-item\"><a href=\"#Lemmatization\" data-toc-modified-id=\"Lemmatization-4.3\"><span class=\"toc-item-num\">4.3&nbsp;&nbsp;</span>Lemmatization</a></div><div class=\"lev1 toc-item\"><a href=\"#Advanced-Text-Processing\" data-toc-modified-id=\"Advanced-Text-Processing-5\"><span class=\"toc-item-num\">5&nbsp;&nbsp;</span>Advanced Text Processing</a></div><div class=\"lev2 toc-item\"><a href=\"#N-grams\" data-toc-modified-id=\"N-grams-5.1\"><span class=\"toc-item-num\">5.1&nbsp;&nbsp;</span>N-grams</a></div><div class=\"lev2 toc-item\"><a href=\"#Term-Frequency\" data-toc-modified-id=\"Term-Frequency-5.2\"><span class=\"toc-item-num\">5.2&nbsp;&nbsp;</span>Term Frequency</a></div><div class=\"lev2 toc-item\"><a href=\"#Inverse-Document-Frequency\" data-toc-modified-id=\"Inverse-Document-Frequency-5.3\"><span class=\"toc-item-num\">5.3&nbsp;&nbsp;</span>Inverse Document Frequency</a></div><div class=\"lev2 toc-item\"><a href=\"#Term-Frequency-–-Inverse-Document-Frequency-(TF-IDF)\" data-toc-modified-id=\"Term-Frequency-–-Inverse-Document-Frequency-(TF-IDF)-5.4\"><span class=\"toc-item-num\">5.4&nbsp;&nbsp;</span>Term Frequency – Inverse Document Frequency (<a href=\"https://en.wikipedia.org/wiki/Tf%E2%80%93idf\" target=\"_blank\">TF-IDF</a>)</a></div><div class=\"lev2 toc-item\"><a href=\"#Bag-of-Words\" data-toc-modified-id=\"Bag-of-Words-5.5\"><span class=\"toc-item-num\">5.5&nbsp;&nbsp;</span><a href=\"https://en.wikipedia.org/wiki/Bag-of-words_model\" target=\"_blank\">Bag of Words</a></a></div><div class=\"lev2 toc-item\"><a href=\"#Sentiment-Analysis\" data-toc-modified-id=\"Sentiment-Analysis-5.6\"><span class=\"toc-item-num\">5.6&nbsp;&nbsp;</span>Sentiment Analysis</a></div>"
   ]
  },
  {
   "cell_type": "markdown",
   "metadata": {},
   "source": [
    "# Introduction to Natural Language Processing with Python\n"
   ]
  },
  {
   "cell_type": "markdown",
   "metadata": {},
   "source": [
    " By: Dr. Eric Godat and Dr. Rob Kalescky\n",
    " \n",
    " Edited: Garrett Moore\n",
    "\n",
    " Adapted from: [Ultimate Guide to deal with Text Data (Using Python)](https://www.analyticsvidhya.com/blog/2018/02/the-different-methods-deal-text-data-predictive-python/)\n",
    " \n",
    " Natural Language Toolkit: [Documentation](http://www.nltk.org/)\n",
    " \n",
    " Reference Text: [Natural Language Processing with Python](http://www.nltk.org/book/)\n",
    " "
   ]
  },
  {
   "cell_type": "markdown",
   "metadata": {},
   "source": [
    "# Intro to Python Basics"
   ]
  },
  {
   "cell_type": "markdown",
   "metadata": {},
   "source": [
    "*This section is designed to guide you from having never used Python before to feeling comfortable with basic operations. If you already feel comfortable with this material, feel free to skip to the next section.*\n",
    "\n",
    "Python is a programming language capable of just about anything you could want to do. It is designed to be human readable and robust. This particular document is called a Jupyter Notebook. Notebooks are tools for developing Python code and running that code in small steps and see the intermediate results in line."
   ]
  },
  {
   "cell_type": "markdown",
   "metadata": {},
   "source": [
    "## Operating this notebook"
   ]
  },
  {
   "cell_type": "markdown",
   "metadata": {},
   "source": [
    "To operate this notebook, you will need to execute boxes of code, called cells. To do this you can either click the *Run* button on the toolbar or use [Shift]+[Enter].\n",
    "\n",
    "Throughout this notebook you will see cells that are not code (like this one). These cells contain text in a language called Markdown. You can execute these cells to render formatted text. A cheatsheet for Markdown can be found [here](https://github.com/adam-p/markdown-here/wiki/Markdown-Cheatsheet). There will also be comments with in the code itself that give additional information about the operation of the code, describe functions or show you places where you might want to make changes. These comments are always preceded by an octothorp (#) and in most cases be a different color from the surrounding text.\n",
    "\n",
    "Notebooks save automatically, however if you have made big changes your code, you can checkpoint it. This allows you to roll back changes to this point (or any previous checkpoints) should something break in the future.\n",
    "\n",
    "There are a few useful [keyboard shortcuts](https://gist.github.com/kidpixo/f4318f8c8143adee5b40) for modifying the cells in a notebook. To use these, click on the far left side of the cell such that the outline changes color (to blue in most cases), press [Enter]] to return to editing the cell's contents.\n",
    "\n",
    "-Add a cell **a**bove the current cell   [A]\n",
    "\n",
    "-Add a cell **b**elow the current cell   [B]\n",
    "\n",
    "-**D**elete the current cell   [D,D]\n",
    "\n",
    "**Let's try it out!**"
   ]
  },
  {
   "cell_type": "markdown",
   "metadata": {},
   "source": [
    "### Basic Math"
   ]
  },
  {
   "cell_type": "markdown",
   "metadata": {},
   "source": [
    "Python can do simple mathematical operations just like a calculator. Try executing the following cells, then add a cell and have it calculate the sum of the longitude and latitude for SMU in Taos (36.274708,-105.5781171)."
   ]
  },
  {
   "cell_type": "code",
   "execution_count": 1,
   "metadata": {},
   "outputs": [
    {
     "data": {
      "text/plain": [
       "2"
      ]
     },
     "execution_count": 1,
     "metadata": {},
     "output_type": "execute_result"
    }
   ],
   "source": [
    "1+1"
   ]
  },
  {
   "cell_type": "code",
   "execution_count": 2,
   "metadata": {},
   "outputs": [
    {
     "data": {
      "text/plain": [
       "0.5"
      ]
     },
     "execution_count": 2,
     "metadata": {},
     "output_type": "execute_result"
    }
   ],
   "source": [
    "2.5-2.0"
   ]
  },
  {
   "cell_type": "markdown",
   "metadata": {},
   "source": [
    "## Variables and Objects"
   ]
  },
  {
   "cell_type": "markdown",
   "metadata": {},
   "source": [
    "Calculations are nice but we really want to be able to store our calculations in memory so that we can access them later. We do that by assigning variables. "
   ]
  },
  {
   "cell_type": "code",
   "execution_count": 3,
   "metadata": {},
   "outputs": [],
   "source": [
    "a=2\n",
    "b=3"
   ]
  },
  {
   "cell_type": "code",
   "execution_count": 4,
   "metadata": {},
   "outputs": [
    {
     "data": {
      "text/plain": [
       "5"
      ]
     },
     "execution_count": 4,
     "metadata": {},
     "output_type": "execute_result"
    }
   ],
   "source": [
    "a+b"
   ]
  },
  {
   "cell_type": "markdown",
   "metadata": {},
   "source": [
    "Variables can be named just about anything"
   ]
  },
  {
   "cell_type": "code",
   "execution_count": 5,
   "metadata": {},
   "outputs": [],
   "source": [
    "pythoniscool=2\n",
    "SMU=7\n",
    "lets_text_mine=3"
   ]
  },
  {
   "cell_type": "code",
   "execution_count": 6,
   "metadata": {},
   "outputs": [
    {
     "data": {
      "text/plain": [
       "42"
      ]
     },
     "execution_count": 6,
     "metadata": {},
     "output_type": "execute_result"
    }
   ],
   "source": [
    "#Notice that if we assign a value to a variable, our notebook won't return that value to our screen.\n",
    "#If we want it to show us the value, we can call that variable after it is assigned.\n",
    "ouranswer = SMU*pythoniscool*lets_text_mine\n",
    "ouranswer"
   ]
  },
  {
   "cell_type": "markdown",
   "metadata": {},
   "source": [
    "So far we have been doing all of our operations on numbers, integers and floats (decimals), but there are other useful objects we can use in Python.\n",
    "\n",
    "Strings allow us to store and operate on text data. Strings in Python are surrounded by either single quotes '' or double quotes \"\"."
   ]
  },
  {
   "cell_type": "code",
   "execution_count": 7,
   "metadata": {},
   "outputs": [
    {
     "data": {
      "text/plain": [
       "'Here is a string in Python!'"
      ]
     },
     "execution_count": 7,
     "metadata": {},
     "output_type": "execute_result"
    }
   ],
   "source": [
    "ourstring = \"Here is a string in Python!\"\n",
    "ourstring"
   ]
  },
  {
   "cell_type": "markdown",
   "metadata": {},
   "source": [
    "Uncomment the next cell and try making a string of your own."
   ]
  },
  {
   "cell_type": "code",
   "execution_count": 8,
   "metadata": {},
   "outputs": [],
   "source": [
    "#mystring = <put your string here>\n",
    "#mystring"
   ]
  },
  {
   "cell_type": "markdown",
   "metadata": {},
   "source": [
    "If we later want to see the value stored in a variable we can always use the built in **print** function"
   ]
  },
  {
   "cell_type": "code",
   "execution_count": 9,
   "metadata": {},
   "outputs": [
    {
     "name": "stdout",
     "output_type": "stream",
     "text": [
      "Here is a string in Python!\n"
     ]
    }
   ],
   "source": [
    "print(ourstring)"
   ]
  },
  {
   "cell_type": "markdown",
   "metadata": {},
   "source": [
    "What if we want to have multiple strings stored at once but we don't want to assign a bunch of variables? Then we can use a list.\n",
    "\n",
    "Lists are enclosed by brackets [] and separated by commas."
   ]
  },
  {
   "cell_type": "code",
   "execution_count": 10,
   "metadata": {},
   "outputs": [],
   "source": [
    "ourlist = ['This', 'is', \"a\", \"list\", 'of', \"strings\"]"
   ]
  },
  {
   "cell_type": "code",
   "execution_count": 11,
   "metadata": {},
   "outputs": [
    {
     "name": "stdout",
     "output_type": "stream",
     "text": [
      "['This', 'is', 'a', 'list', 'of', 'strings']\n"
     ]
    }
   ],
   "source": [
    "print(ourlist)"
   ]
  },
  {
   "cell_type": "markdown",
   "metadata": {},
   "source": [
    "To access individual elements in a list you call it by its reference number.\n",
    "\n",
    "*__Note:__ In Python, counting starts with 0. Thus in the list [a,b,c], a is the 0th element and c is the 2nd*"
   ]
  },
  {
   "cell_type": "code",
   "execution_count": 12,
   "metadata": {},
   "outputs": [],
   "source": [
    "first = ourlist[0]"
   ]
  },
  {
   "cell_type": "code",
   "execution_count": 13,
   "metadata": {},
   "outputs": [],
   "source": [
    "# Notice we can call the last element by using a negative reference number. This lets us see the end without knowing how long the list is.\n",
    "last = ourlist[-1]"
   ]
  },
  {
   "cell_type": "code",
   "execution_count": 14,
   "metadata": {},
   "outputs": [
    {
     "name": "stdout",
     "output_type": "stream",
     "text": [
      "This strings\n"
     ]
    }
   ],
   "source": [
    "print(first,last)"
   ]
  },
  {
   "cell_type": "code",
   "execution_count": 15,
   "metadata": {},
   "outputs": [
    {
     "data": {
      "text/plain": [
       "6"
      ]
     },
     "execution_count": 15,
     "metadata": {},
     "output_type": "execute_result"
    }
   ],
   "source": [
    "# If we did want to know the length of our list we can use the len() function\n",
    "len(ourlist)"
   ]
  },
  {
   "cell_type": "markdown",
   "metadata": {},
   "source": [
    "Try making a list and printing the 2nd element from your list. Make sure to remove the #'s for comments."
   ]
  },
  {
   "cell_type": "code",
   "execution_count": 16,
   "metadata": {},
   "outputs": [],
   "source": [
    "#mylist=\n",
    "#\n",
    "#"
   ]
  },
  {
   "cell_type": "markdown",
   "metadata": {},
   "source": [
    "### Dictionaries"
   ]
  },
  {
   "cell_type": "markdown",
   "metadata": {},
   "source": [
    "Dictionaries are a different way of storing data than lists. They rely on a key and value system as opposed to the order of the entries.\n",
    "\n",
    "Dictionaries are enclosed in curly braces {}, the key and value are separated by a colon : and entries are separated by commas ,\n",
    "\n",
    "Values can then be accessed by referencing the key.\n",
    "\n",
    "Note that finding dictionary values does not go both ways, so using the value to find the key will cause an error."
   ]
  },
  {
   "cell_type": "code",
   "execution_count": 17,
   "metadata": {},
   "outputs": [
    {
     "data": {
      "text/plain": [
       "{'Dallas': 1341000, 'Plano': 286143, 'Taos': 5668}"
      ]
     },
     "execution_count": 17,
     "metadata": {},
     "output_type": "execute_result"
    }
   ],
   "source": [
    "ourdictionary = {\"Dallas\":1341000,\"Plano\":286143,\"Taos\":5668}\n",
    "ourdictionary"
   ]
  },
  {
   "cell_type": "code",
   "execution_count": 18,
   "metadata": {},
   "outputs": [
    {
     "data": {
      "text/plain": [
       "5668"
      ]
     },
     "execution_count": 18,
     "metadata": {},
     "output_type": "execute_result"
    }
   ],
   "source": [
    "ourdictionary[\"Taos\"] \n",
    "#NOTE: ourdictionary[5668] will NOT give you \"Taos\", but an error."
   ]
  },
  {
   "cell_type": "markdown",
   "metadata": {},
   "source": [
    "Below are the word counts for the *Lord of the Rings* books ([citation](http://lotrproject.com/statistics/books/wordscount)). Can you build a dictionary of the information and then calculate the difference between the *Fellowship of the Ring* and *The Hobbit* and the total number of words for books in the *Lord of the Rings* Trilogy?  Try adding a cell below this one, then compare your answer to the one below!\n",
    "\n",
    "|__Book__|__Word Count__|\n",
    "|---|---|\n",
    "|The Silmarillion|130115|\n",
    "|The Hobbit|95356|\n",
    "|The Fellowship of the Ring|187790|\n",
    "|The Two Towers|156198|\n",
    "|The Return of the King|137115|"
   ]
  },
  {
   "cell_type": "code",
   "execution_count": 19,
   "metadata": {},
   "outputs": [
    {
     "name": "stdout",
     "output_type": "stream",
     "text": [
      "The Fellowship of the Ring - The Hobbit\n",
      "92434\n",
      "Total Words for the Lord of the Rings Trilogy\n",
      "481103\n"
     ]
    }
   ],
   "source": [
    "# Here is the code answer for writing the dictionary\n",
    "\n",
    "tolkien = {\"The Silmarillion\":130115,\"The Hobbit\":95356,\"The Fellowship of the Ring\":187790, \"The Two Towers\":156198, \"The Return of the King\":137115}\n",
    "\n",
    "bilbo=tolkien[\"The Hobbit\"]\n",
    "\n",
    "frodo=tolkien[\"The Fellowship of the Ring\"]\n",
    "\n",
    "print(\"The Fellowship of the Ring - The Hobbit\")\n",
    "\n",
    "print(frodo-bilbo)\n",
    "\n",
    "print(\"Total Words for the Lord of the Rings Trilogy\")\n",
    "\n",
    "print(tolkien[\"The Fellowship of the Ring\"]+tolkien[\"The Two Towers\"]+tolkien[\"The Return of the King\"])\n"
   ]
  },
  {
   "cell_type": "markdown",
   "metadata": {},
   "source": [
    "## Loops and Functions"
   ]
  },
  {
   "cell_type": "markdown",
   "metadata": {},
   "source": [
    "Computers are much better at doing simple repeatable tasks than humans are so to leverage this advantage, we will cover two different ways of writing these kind of repeatable instructions."
   ]
  },
  {
   "cell_type": "markdown",
   "metadata": {},
   "source": [
    "### Loops"
   ]
  },
  {
   "cell_type": "markdown",
   "metadata": {},
   "source": [
    "Loops are a way of having Python complete a task over and over.\n",
    "\n",
    "The most common form if a **for** loop. A **for** loop completes a task a fixed number of times by iterating a variable over the members of a sequence in order."
   ]
  },
  {
   "cell_type": "code",
   "execution_count": 20,
   "metadata": {},
   "outputs": [
    {
     "name": "stdout",
     "output_type": "stream",
     "text": [
      "0\n",
      "1\n",
      "2\n"
     ]
    }
   ],
   "source": [
    "#Example for loop\n",
    "for i in [0,1,2]:\n",
    "    print(i)"
   ]
  },
  {
   "cell_type": "markdown",
   "metadata": {},
   "source": [
    "**Note**: The indention is important, it tells Python that the line *print(i)* belongs inside the loop."
   ]
  },
  {
   "cell_type": "markdown",
   "metadata": {},
   "source": [
    "### Functions"
   ]
  },
  {
   "cell_type": "markdown",
   "metadata": {},
   "source": [
    "Sometimes it would be nice to be able to save a group of instructions in a single block, that way we won't need to rewrite several lines of code each time we want to do that set of operations.\n",
    "\n",
    "To do this we define a **function**.\n",
    "\n",
    "Functions allow us to define a more complicated set of instructions as a single entity and call that entire block of code directly.\n",
    "\n",
    "Functions are defined (*def*), named (lowercase is a standard practice) and accept arguments (). They then can return a value if needed (*return*).\n",
    "\n",
    "Python has several built in functions (*print()* is a good example) and when you combine external packages and libraries, there are functions for just about everything you could think of."
   ]
  },
  {
   "cell_type": "code",
   "execution_count": 21,
   "metadata": {},
   "outputs": [],
   "source": [
    "# Example function\n",
    "def square_me(n):\n",
    "    return n*n"
   ]
  },
  {
   "cell_type": "code",
   "execution_count": 22,
   "metadata": {},
   "outputs": [
    {
     "data": {
      "text/plain": [
       "16"
      ]
     },
     "execution_count": 22,
     "metadata": {},
     "output_type": "execute_result"
    }
   ],
   "source": [
    "square_me(4)"
   ]
  },
  {
   "cell_type": "markdown",
   "metadata": {},
   "source": [
    "Try defining your own function that takes 2 arguments and adds them together."
   ]
  },
  {
   "cell_type": "code",
   "execution_count": 23,
   "metadata": {},
   "outputs": [],
   "source": [
    "#def add_me\n",
    "#\n",
    "#"
   ]
  },
  {
   "cell_type": "code",
   "execution_count": 24,
   "metadata": {},
   "outputs": [],
   "source": [
    "#add_me(7,11)"
   ]
  },
  {
   "cell_type": "markdown",
   "metadata": {},
   "source": [
    "Putting loops and functions together is where python can become very powerful."
   ]
  },
  {
   "cell_type": "code",
   "execution_count": 25,
   "metadata": {},
   "outputs": [
    {
     "name": "stdout",
     "output_type": "stream",
     "text": [
      "0\n",
      "1\n",
      "4\n",
      "9\n"
     ]
    }
   ],
   "source": [
    "# Looping over a function\n",
    "for i in [0,1,2,3]:\n",
    "    print(square_me(i)) # note that this is still tabbed in within the for loop"
   ]
  },
  {
   "cell_type": "code",
   "execution_count": 26,
   "metadata": {},
   "outputs": [],
   "source": [
    "# A function with a loop\n",
    "def print_numbers(start,stop):\n",
    "    for i in range(start,stop): #Here the range() function gives us all the values from start up to but excluding the stop value\n",
    "        print(i) # this is indented twice, so Python knows it is within the loop within the function"
   ]
  },
  {
   "cell_type": "code",
   "execution_count": 27,
   "metadata": {},
   "outputs": [
    {
     "name": "stdout",
     "output_type": "stream",
     "text": [
      "0\n",
      "1\n",
      "2\n",
      "3\n"
     ]
    }
   ],
   "source": [
    "print_numbers(0,4)"
   ]
  },
  {
   "cell_type": "markdown",
   "metadata": {},
   "source": [
    "# Libraries"
   ]
  },
  {
   "cell_type": "markdown",
   "metadata": {},
   "source": [
    "Libraries are pre-written chunks of code designed to be integrated into projects for a specific purpose.  The idea is to keep people from having to reinvent the wheel every time they want to write a program.  When we encounter situations where a libary might be useful, we use the keyword *import* to tell the program that we want to use this pre-existing code.  As an example, in the next section you will use a library called Pandas which helps visualize data and make it easier to digest, which is very useful for us.  Because of this, we will import that code into this program simply by running the cell with the import that goes with that code.  Here is what you will see, only in commented code."
   ]
  },
  {
   "cell_type": "code",
   "execution_count": 28,
   "metadata": {},
   "outputs": [],
   "source": [
    "#import pandas as pd\n",
    "\n",
    "#by using the keyword *as* and giving pandas an alternative name (pd) in this program, it allows us to use the\n",
    "#functions within pandas while only having to type our pd instead of pandas every time."
   ]
  },
  {
   "cell_type": "markdown",
   "metadata": {},
   "source": [
    "Most programming languages have libraries that allow you to import code this way, and it will save you a lot of time and allow you to quickly use many new functions that are highly polished."
   ]
  },
  {
   "cell_type": "markdown",
   "metadata": {},
   "source": [
    "# DataFrames and Pandas"
   ]
  },
  {
   "cell_type": "markdown",
   "metadata": {},
   "source": [
    "Now it is time to use what we have learned to start doing some data science.\n",
    "\n",
    "Pandas is the name of a library in which there are functions and tools for doing operations common in data analysis and data science. One particularly great feature is the DataFrame structure which allows us to work with an object similar to an Excel spreadsheet but with the flexibility and power of Python behind it.\n",
    "\n",
    "First we will need to import the Pandas library and create a DataFrame. DataFrames are can also be created when you import files (like CSV's) or tables from a database (like SQL)."
   ]
  },
  {
   "cell_type": "code",
   "execution_count": 29,
   "metadata": {},
   "outputs": [],
   "source": [
    "import pandas as pd"
   ]
  },
  {
   "cell_type": "code",
   "execution_count": 30,
   "metadata": {},
   "outputs": [
    {
     "data": {
      "text/html": [
       "<div>\n",
       "<style scoped>\n",
       "    .dataframe tbody tr th:only-of-type {\n",
       "        vertical-align: middle;\n",
       "    }\n",
       "\n",
       "    .dataframe tbody tr th {\n",
       "        vertical-align: top;\n",
       "    }\n",
       "\n",
       "    .dataframe thead th {\n",
       "        text-align: right;\n",
       "    }\n",
       "</style>\n",
       "<table border=\"1\" class=\"dataframe\">\n",
       "  <thead>\n",
       "    <tr style=\"text-align: right;\">\n",
       "      <th></th>\n",
       "      <th>Books</th>\n",
       "      <th>Words</th>\n",
       "    </tr>\n",
       "  </thead>\n",
       "  <tbody>\n",
       "    <tr>\n",
       "      <th>0</th>\n",
       "      <td>The Silmarillion</td>\n",
       "      <td>130115</td>\n",
       "    </tr>\n",
       "    <tr>\n",
       "      <th>1</th>\n",
       "      <td>The Hobbit</td>\n",
       "      <td>95356</td>\n",
       "    </tr>\n",
       "    <tr>\n",
       "      <th>2</th>\n",
       "      <td>The Fellowship of the Ring</td>\n",
       "      <td>187790</td>\n",
       "    </tr>\n",
       "    <tr>\n",
       "      <th>3</th>\n",
       "      <td>The Two Towers</td>\n",
       "      <td>156198</td>\n",
       "    </tr>\n",
       "    <tr>\n",
       "      <th>4</th>\n",
       "      <td>The Return of the King</td>\n",
       "      <td>137115</td>\n",
       "    </tr>\n",
       "  </tbody>\n",
       "</table>\n",
       "</div>"
      ],
      "text/plain": [
       "                        Books   Words\n",
       "0            The Silmarillion  130115\n",
       "1                  The Hobbit   95356\n",
       "2  The Fellowship of the Ring  187790\n",
       "3              The Two Towers  156198\n",
       "4      The Return of the King  137115"
      ]
     },
     "execution_count": 30,
     "metadata": {},
     "output_type": "execute_result"
    }
   ],
   "source": [
    "#Notice here the data is a dictionary, similar to the one we used above but with the titles and wordcounts as nested lists\n",
    "d = {\"Books\":[\"The Silmarillion\",\"The Hobbit\",\"The Fellowship of the Ring\",\"The Two Towers\",\"The Return of the King\"],\n",
    "     \"Words\":[130115,95356,187790,156198,137115]}\n",
    "df = pd.DataFrame(d)\n",
    "df"
   ]
  },
  {
   "cell_type": "markdown",
   "metadata": {},
   "source": [
    "Now we can operate on entire rows or columns in our DataFrame."
   ]
  },
  {
   "cell_type": "code",
   "execution_count": 31,
   "metadata": {},
   "outputs": [
    {
     "data": {
      "text/plain": [
       "0              The Silmarillion\n",
       "1                    The Hobbit\n",
       "2    The Fellowship of the Ring\n",
       "3                The Two Towers\n",
       "4        The Return of the King\n",
       "Name: Books, dtype: object"
      ]
     },
     "execution_count": 31,
     "metadata": {},
     "output_type": "execute_result"
    }
   ],
   "source": [
    "df[\"Books\"] #Selecting the column \"Books\""
   ]
  },
  {
   "cell_type": "code",
   "execution_count": 32,
   "metadata": {},
   "outputs": [
    {
     "data": {
      "text/html": [
       "<div>\n",
       "<style scoped>\n",
       "    .dataframe tbody tr th:only-of-type {\n",
       "        vertical-align: middle;\n",
       "    }\n",
       "\n",
       "    .dataframe tbody tr th {\n",
       "        vertical-align: top;\n",
       "    }\n",
       "\n",
       "    .dataframe thead th {\n",
       "        text-align: right;\n",
       "    }\n",
       "</style>\n",
       "<table border=\"1\" class=\"dataframe\">\n",
       "  <thead>\n",
       "    <tr style=\"text-align: right;\">\n",
       "      <th></th>\n",
       "      <th>Books</th>\n",
       "      <th>Words</th>\n",
       "    </tr>\n",
       "  </thead>\n",
       "  <tbody>\n",
       "    <tr>\n",
       "      <th>0</th>\n",
       "      <td>The Silmarillion</td>\n",
       "      <td>130115</td>\n",
       "    </tr>\n",
       "    <tr>\n",
       "      <th>1</th>\n",
       "      <td>The Hobbit</td>\n",
       "      <td>95356</td>\n",
       "    </tr>\n",
       "  </tbody>\n",
       "</table>\n",
       "</div>"
      ],
      "text/plain": [
       "              Books   Words\n",
       "0  The Silmarillion  130115\n",
       "1        The Hobbit   95356"
      ]
     },
     "execution_count": 32,
     "metadata": {},
     "output_type": "execute_result"
    }
   ],
   "source": [
    "df[:2] #Selecting the first 2 rows"
   ]
  },
  {
   "cell_type": "code",
   "execution_count": 33,
   "metadata": {},
   "outputs": [
    {
     "data": {
      "text/html": [
       "<div>\n",
       "<style scoped>\n",
       "    .dataframe tbody tr th:only-of-type {\n",
       "        vertical-align: middle;\n",
       "    }\n",
       "\n",
       "    .dataframe tbody tr th {\n",
       "        vertical-align: top;\n",
       "    }\n",
       "\n",
       "    .dataframe thead th {\n",
       "        text-align: right;\n",
       "    }\n",
       "</style>\n",
       "<table border=\"1\" class=\"dataframe\">\n",
       "  <thead>\n",
       "    <tr style=\"text-align: right;\">\n",
       "      <th></th>\n",
       "      <th>Books</th>\n",
       "      <th>Words</th>\n",
       "    </tr>\n",
       "  </thead>\n",
       "  <tbody>\n",
       "    <tr>\n",
       "      <th>2</th>\n",
       "      <td>The Fellowship of the Ring</td>\n",
       "      <td>187790</td>\n",
       "    </tr>\n",
       "    <tr>\n",
       "      <th>3</th>\n",
       "      <td>The Two Towers</td>\n",
       "      <td>156198</td>\n",
       "    </tr>\n",
       "  </tbody>\n",
       "</table>\n",
       "</div>"
      ],
      "text/plain": [
       "                        Books   Words\n",
       "2  The Fellowship of the Ring  187790\n",
       "3              The Two Towers  156198"
      ]
     },
     "execution_count": 33,
     "metadata": {},
     "output_type": "execute_result"
    }
   ],
   "source": [
    "df[2:4] #Selecting rows 2 up to 4"
   ]
  },
  {
   "cell_type": "code",
   "execution_count": 34,
   "metadata": {},
   "outputs": [
    {
     "data": {
      "text/plain": [
       "2    187790\n",
       "3    156198\n",
       "Name: Words, dtype: int64"
      ]
     },
     "execution_count": 34,
     "metadata": {},
     "output_type": "execute_result"
    }
   ],
   "source": [
    "df[\"Words\"][2:4] #Selecting the second and third row from the \"Words\" column."
   ]
  },
  {
   "cell_type": "code",
   "execution_count": 35,
   "metadata": {},
   "outputs": [
    {
     "data": {
      "text/plain": [
       "2    187790\n",
       "3    156198\n",
       "Name: Words, dtype: int64"
      ]
     },
     "execution_count": 35,
     "metadata": {},
     "output_type": "execute_result"
    }
   ],
   "source": [
    "df[2:4][\"Words\"] #Same result but from the opposite order"
   ]
  },
  {
   "cell_type": "markdown",
   "metadata": {},
   "source": [
    "You can also operate on entire columns in your DataFrame. Just be careful because this can give you unexpected results. Rows are generally more consistent for elements within a DataFrame."
   ]
  },
  {
   "cell_type": "code",
   "execution_count": 36,
   "metadata": {},
   "outputs": [
    {
     "data": {
      "text/plain": [
       "706574"
      ]
     },
     "execution_count": 36,
     "metadata": {},
     "output_type": "execute_result"
    }
   ],
   "source": [
    "total = sum(df[\"Words\"])\n",
    "total"
   ]
  },
  {
   "cell_type": "markdown",
   "metadata": {},
   "source": [
    "## Plotting"
   ]
  },
  {
   "cell_type": "markdown",
   "metadata": {},
   "source": [
    "Visualizing data is incredibly important when trying to convey findings. There are several libraries available for doing data visualization. Pandas has some built in plotting functionality, but we have provided access to MatPlotLib, Plotly and Seaborn as well."
   ]
  },
  {
   "cell_type": "code",
   "execution_count": 37,
   "metadata": {},
   "outputs": [],
   "source": [
    "# This is only needed in this case because we wanted to show the names of the books. You could make a similar plot in Pandas.\n",
    "import matplotlib\n",
    "%matplotlib inline\n",
    "# This allows the plot to be shown inline in the notebook"
   ]
  },
  {
   "cell_type": "code",
   "execution_count": 38,
   "metadata": {},
   "outputs": [
    {
     "data": {
      "image/png": "[encoded data removed]",
      "text/plain": [
       "<Figure size 432x288 with 1 Axes>"
      ]
     },
     "metadata": {
      "needs_background": "light"
     },
     "output_type": "display_data"
    }
   ],
   "source": [
    "plot = df.plot(kind='bar') # we are setting the type of plot to a bar graph\n",
    "plot.set_xticklabels(df['Books']); #This lets us rename the x axis labels"
   ]
  },
  {
   "cell_type": "markdown",
   "metadata": {},
   "source": [
    "That concludes our tutorial for basic Python.\n",
    "\n",
    "As you proceed forward, the remainder of this notebook is focused on mining text data."
   ]
  },
  {
   "cell_type": "markdown",
   "metadata": {},
   "source": [
    "# Text Mining Basics"
   ]
  },
  {
   "cell_type": "markdown",
   "metadata": {},
   "source": [
    "## Setup"
   ]
  },
  {
   "cell_type": "markdown",
   "metadata": {},
   "source": [
    "These are the basic libraries we will use in for data manipulation (pandas) and math functions (numpy). We will add more libraries as we need them.\n",
    "\n",
    "As a best practice, it is a good idea to load all your libraries in a single cell at the top of a notebook, however for the purposes of this tutorial we will load them as we go."
   ]
  },
  {
   "cell_type": "code",
   "execution_count": 39,
   "metadata": {},
   "outputs": [],
   "source": [
    "import pandas as pd\n",
    "import numpy as np"
   ]
  },
  {
   "cell_type": "markdown",
   "metadata": {},
   "source": [
    "Load a data file into a pandas DataFrame.\n",
    "\n",
    "This tutorial was designed around using sets of data you have yourselves in a form like a CSV, TSV, or TXT file.  Feel free to use any set of data, but for now we will use a dataset created from scraping this [Multilingual Folktale Database](http://www.mftd.org/).\n",
    "\n",
    "This file is a CSV filetype, common for text data, but your data may also be stored as TSV's, TXT's, or other file types.  This will slightly change how you read from Pandas, but the concept is largely the same for the different filetypes.  Just keep this in mind when you see references to CSV.\n",
    "\n",
    "To proceed, you will need to have this file downloaded and in the same folder as this notebook. Alternatively you can put the full path to the file.  Typically, your program will look for the file with the name you specified in the folder that contains your program unless you give the program a path to follow."
   ]
  },
  {
   "cell_type": "code",
   "execution_count": 40,
   "metadata": {},
   "outputs": [
    {
     "data": {
      "text/plain": [
       "['folktales.csv']"
      ]
     },
     "execution_count": 40,
     "metadata": {},
     "output_type": "execute_result"
    }
   ],
   "source": [
    "import glob\n",
    "glob.glob(\"*.csv\") #Allows us to check the files in the current directory, if folktales.csv is not here, then we need to give the path"
   ]
  },
  {
   "cell_type": "code",
   "execution_count": 41,
   "metadata": {},
   "outputs": [
    {
     "data": {
      "text/html": [
       "<div>\n",
       "<style scoped>\n",
       "    .dataframe tbody tr th:only-of-type {\n",
       "        vertical-align: middle;\n",
       "    }\n",
       "\n",
       "    .dataframe tbody tr th {\n",
       "        vertical-align: top;\n",
       "    }\n",
       "\n",
       "    .dataframe thead th {\n",
       "        text-align: right;\n",
       "    }\n",
       "</style>\n",
       "<table border=\"1\" class=\"dataframe\">\n",
       "  <thead>\n",
       "    <tr style=\"text-align: right;\">\n",
       "      <th></th>\n",
       "      <th>Unnamed: 0</th>\n",
       "      <th>ATU Code</th>\n",
       "      <th>Author</th>\n",
       "      <th>Country of Origin</th>\n",
       "      <th>Original Title</th>\n",
       "      <th>Source</th>\n",
       "      <th>Story</th>\n",
       "      <th>Story Type</th>\n",
       "      <th>Title</th>\n",
       "      <th>Translated</th>\n",
       "      <th>Year Translated</th>\n",
       "      <th>Year Written</th>\n",
       "    </tr>\n",
       "  </thead>\n",
       "  <tbody>\n",
       "    <tr>\n",
       "      <th>0</th>\n",
       "      <td>17</td>\n",
       "      <td>15.0</td>\n",
       "      <td>Jacob &amp; Wilhelm Grimm</td>\n",
       "      <td>Germany</td>\n",
       "      <td>Katze und Maus in Gesellschaft</td>\n",
       "      <td>NaN</td>\n",
       "      <td>A cat had made the acquaintance of a mouse, an...</td>\n",
       "      <td>Stealing the Partner's Butter (ATU 15)\\n\\t\\t</td>\n",
       "      <td>Cat and mouse in partnership</td>\n",
       "      <td>Margaret Hunt</td>\n",
       "      <td>1884.0</td>\n",
       "      <td>1812</td>\n",
       "    </tr>\n",
       "    <tr>\n",
       "      <th>1</th>\n",
       "      <td>44</td>\n",
       "      <td>123.0</td>\n",
       "      <td>Jacob &amp; Wilhelm Grimm</td>\n",
       "      <td>Germany</td>\n",
       "      <td>Der Wolf und die sieben jungen Geisslein</td>\n",
       "      <td>NaN</td>\n",
       "      <td>There was once an old goat who had seven littl...</td>\n",
       "      <td>The Wolf and the Seven Young Kids (ATU 123)\\n...</td>\n",
       "      <td>The Wolf and the Seven Young Kids</td>\n",
       "      <td>Margaret Hunt</td>\n",
       "      <td>1884.0</td>\n",
       "      <td>1812</td>\n",
       "    </tr>\n",
       "    <tr>\n",
       "      <th>2</th>\n",
       "      <td>54</td>\n",
       "      <td>516.0</td>\n",
       "      <td>Jacob &amp; Wilhelm Grimm</td>\n",
       "      <td>Germany</td>\n",
       "      <td>Der treue Johannes</td>\n",
       "      <td>The Blue Fairy Book (nr. 30)</td>\n",
       "      <td>ONCE upon a time there was an old king who was...</td>\n",
       "      <td>The Petrified Friend (ATU 516)\\n\\t\\t</td>\n",
       "      <td>Trusty John</td>\n",
       "      <td>Andrew Lang</td>\n",
       "      <td>1889.0</td>\n",
       "      <td>1812</td>\n",
       "    </tr>\n",
       "    <tr>\n",
       "      <th>3</th>\n",
       "      <td>64</td>\n",
       "      <td>NaN</td>\n",
       "      <td>Jacob &amp; Wilhelm Grimm</td>\n",
       "      <td>Germany</td>\n",
       "      <td>Der gute Handel</td>\n",
       "      <td>NaN</td>\n",
       "      <td>There was once a peasant who had driven his co...</td>\n",
       "      <td>NaN</td>\n",
       "      <td>The good bargain</td>\n",
       "      <td>Margaret Hunt</td>\n",
       "      <td>1884.0</td>\n",
       "      <td>1812</td>\n",
       "    </tr>\n",
       "    <tr>\n",
       "      <th>4</th>\n",
       "      <td>74</td>\n",
       "      <td>151.0</td>\n",
       "      <td>Jacob &amp; Wilhelm Grimm</td>\n",
       "      <td>Germany</td>\n",
       "      <td>Der wunderliche Spielmann</td>\n",
       "      <td>NaN</td>\n",
       "      <td>There was once a wonderful musician, who went ...</td>\n",
       "      <td>Music lessons for wild animals (ATU 151)\\n\\t\\t</td>\n",
       "      <td>The Wonderful Musician</td>\n",
       "      <td>Translated into English</td>\n",
       "      <td>NaN</td>\n",
       "      <td>1812</td>\n",
       "    </tr>\n",
       "  </tbody>\n",
       "</table>\n",
       "</div>"
      ],
      "text/plain": [
       "   Unnamed: 0  ATU Code                 Author Country of Origin  \\\n",
       "0          17      15.0  Jacob & Wilhelm Grimm           Germany   \n",
       "1          44     123.0  Jacob & Wilhelm Grimm           Germany   \n",
       "2          54     516.0  Jacob & Wilhelm Grimm           Germany   \n",
       "3          64       NaN  Jacob & Wilhelm Grimm           Germany   \n",
       "4          74     151.0  Jacob & Wilhelm Grimm           Germany   \n",
       "\n",
       "                             Original Title                        Source  \\\n",
       "0            Katze und Maus in Gesellschaft                           NaN   \n",
       "1  Der Wolf und die sieben jungen Geisslein                           NaN   \n",
       "2                        Der treue Johannes  The Blue Fairy Book (nr. 30)   \n",
       "3                           Der gute Handel                           NaN   \n",
       "4                 Der wunderliche Spielmann                           NaN   \n",
       "\n",
       "                                               Story  \\\n",
       "0  A cat had made the acquaintance of a mouse, an...   \n",
       "1  There was once an old goat who had seven littl...   \n",
       "2  ONCE upon a time there was an old king who was...   \n",
       "3  There was once a peasant who had driven his co...   \n",
       "4  There was once a wonderful musician, who went ...   \n",
       "\n",
       "                                          Story Type  \\\n",
       "0       Stealing the Partner's Butter (ATU 15)\\n\\t\\t   \n",
       "1   The Wolf and the Seven Young Kids (ATU 123)\\n...   \n",
       "2               The Petrified Friend (ATU 516)\\n\\t\\t   \n",
       "3                                                NaN   \n",
       "4     Music lessons for wild animals (ATU 151)\\n\\t\\t   \n",
       "\n",
       "                               Title               Translated  \\\n",
       "0       Cat and mouse in partnership            Margaret Hunt   \n",
       "1  The Wolf and the Seven Young Kids            Margaret Hunt   \n",
       "2                        Trusty John              Andrew Lang   \n",
       "3                   The good bargain            Margaret Hunt   \n",
       "4             The Wonderful Musician  Translated into English   \n",
       "\n",
       "   Year Translated Year Written  \n",
       "0           1884.0         1812  \n",
       "1           1884.0         1812  \n",
       "2           1889.0         1812  \n",
       "3           1884.0         1812  \n",
       "4              NaN         1812  "
      ]
     },
     "execution_count": 41,
     "metadata": {},
     "output_type": "execute_result"
    }
   ],
   "source": [
    "filename = 'folktales.csv' #If you need to put the path to the file, do so here.\n",
    "data = pd.read_csv(filename)#if your filetype is not CSV, you may need to add \" , sep = 'separating_character_here' \" after the filename.  This may require extra manipulation, so be careful.\n",
    "#an alternative, depending on your filetype and situation, may be read_table as opposed to read_csv\n",
    "data.head() # We will use the .head() attribute to limit the amount of the DataFrame is displayed on screen. It is not necessary for computation."
   ]
  },
  {
   "cell_type": "markdown",
   "metadata": {},
   "source": [
    "Here we can see all the information available to us from the file in the form of a Pandas DataFrame. For the remainder of this tutorial, we will focus primarily on the full text of each data chunk, which we will name the *Story* column.  With your data set this is likely to be something very different, so feel free to call is something else."
   ]
  },
  {
   "cell_type": "markdown",
   "metadata": {},
   "source": [
    "## Counting Words and Characters"
   ]
  },
  {
   "cell_type": "markdown",
   "metadata": {},
   "source": [
    "The first bit of analysis we might want to do is to count the number of words in one piece of data. To do this we will add a column called *wordcount* and write an operation that applies a function to every row of the column.\n",
    "\n",
    "Unpacking this piece of code, *len(str(x).split(\" \")*, tells us what is happening.\n",
    "\n",
    "For the content of cell *x*, convert it to a string, *str()*, then split that string into pieces at each space, *split()*.\n",
    "\n",
    "The result of that is a list of all the words in the text and then we can count the length of that list, *len()*."
   ]
  },
  {
   "cell_type": "code",
   "execution_count": 42,
   "metadata": {
    "scrolled": true
   },
   "outputs": [
    {
     "data": {
      "text/html": [
       "<div>\n",
       "<style scoped>\n",
       "    .dataframe tbody tr th:only-of-type {\n",
       "        vertical-align: middle;\n",
       "    }\n",
       "\n",
       "    .dataframe tbody tr th {\n",
       "        vertical-align: top;\n",
       "    }\n",
       "\n",
       "    .dataframe thead th {\n",
       "        text-align: right;\n",
       "    }\n",
       "</style>\n",
       "<table border=\"1\" class=\"dataframe\">\n",
       "  <thead>\n",
       "    <tr style=\"text-align: right;\">\n",
       "      <th></th>\n",
       "      <th>Story</th>\n",
       "      <th>wordcount</th>\n",
       "    </tr>\n",
       "  </thead>\n",
       "  <tbody>\n",
       "    <tr>\n",
       "      <th>0</th>\n",
       "      <td>A cat had made the acquaintance of a mouse, an...</td>\n",
       "      <td>987</td>\n",
       "    </tr>\n",
       "    <tr>\n",
       "      <th>1</th>\n",
       "      <td>There was once an old goat who had seven littl...</td>\n",
       "      <td>1037</td>\n",
       "    </tr>\n",
       "    <tr>\n",
       "      <th>2</th>\n",
       "      <td>ONCE upon a time there was an old king who was...</td>\n",
       "      <td>3068</td>\n",
       "    </tr>\n",
       "    <tr>\n",
       "      <th>3</th>\n",
       "      <td>There was once a peasant who had driven his co...</td>\n",
       "      <td>1723</td>\n",
       "    </tr>\n",
       "    <tr>\n",
       "      <th>4</th>\n",
       "      <td>There was once a wonderful musician, who went ...</td>\n",
       "      <td>1066</td>\n",
       "    </tr>\n",
       "  </tbody>\n",
       "</table>\n",
       "</div>"
      ],
      "text/plain": [
       "                                               Story  wordcount\n",
       "0  A cat had made the acquaintance of a mouse, an...        987\n",
       "1  There was once an old goat who had seven littl...       1037\n",
       "2  ONCE upon a time there was an old king who was...       3068\n",
       "3  There was once a peasant who had driven his co...       1723\n",
       "4  There was once a wonderful musician, who went ...       1066"
      ]
     },
     "execution_count": 42,
     "metadata": {},
     "output_type": "execute_result"
    }
   ],
   "source": [
    "data['wordcount'] = data['Story'].apply(lambda x: len(str(x).split(\" \")))\n",
    "data[['Story','wordcount']].head()"
   ]
  },
  {
   "cell_type": "markdown",
   "metadata": {},
   "source": [
    "We can do something similar to count the number of characters in the data chunk, including spaces. If you wanted to exclude whitespaces, you could take the list we made above, join it together and count the length of the resulting string."
   ]
  },
  {
   "cell_type": "code",
   "execution_count": 43,
   "metadata": {},
   "outputs": [],
   "source": [
    "data = data.fillna(\"No Information Provided\") #If some of our data is missing, this will replace the blank entries. This is only necessary in some cases\n"
   ]
  },
  {
   "cell_type": "code",
   "execution_count": 44,
   "metadata": {},
   "outputs": [
    {
     "data": {
      "text/html": [
       "<div>\n",
       "<style scoped>\n",
       "    .dataframe tbody tr th:only-of-type {\n",
       "        vertical-align: middle;\n",
       "    }\n",
       "\n",
       "    .dataframe tbody tr th {\n",
       "        vertical-align: top;\n",
       "    }\n",
       "\n",
       "    .dataframe thead th {\n",
       "        text-align: right;\n",
       "    }\n",
       "</style>\n",
       "<table border=\"1\" class=\"dataframe\">\n",
       "  <thead>\n",
       "    <tr style=\"text-align: right;\">\n",
       "      <th></th>\n",
       "      <th>Story</th>\n",
       "      <th>char_count</th>\n",
       "    </tr>\n",
       "  </thead>\n",
       "  <tbody>\n",
       "    <tr>\n",
       "      <th>0</th>\n",
       "      <td>A cat had made the acquaintance of a mouse, an...</td>\n",
       "      <td>5108</td>\n",
       "    </tr>\n",
       "    <tr>\n",
       "      <th>1</th>\n",
       "      <td>There was once an old goat who had seven littl...</td>\n",
       "      <td>5343</td>\n",
       "    </tr>\n",
       "    <tr>\n",
       "      <th>2</th>\n",
       "      <td>ONCE upon a time there was an old king who was...</td>\n",
       "      <td>15999</td>\n",
       "    </tr>\n",
       "    <tr>\n",
       "      <th>3</th>\n",
       "      <td>There was once a peasant who had driven his co...</td>\n",
       "      <td>8907</td>\n",
       "    </tr>\n",
       "    <tr>\n",
       "      <th>4</th>\n",
       "      <td>There was once a wonderful musician, who went ...</td>\n",
       "      <td>5592</td>\n",
       "    </tr>\n",
       "  </tbody>\n",
       "</table>\n",
       "</div>"
      ],
      "text/plain": [
       "                                               Story  char_count\n",
       "0  A cat had made the acquaintance of a mouse, an...        5108\n",
       "1  There was once an old goat who had seven littl...        5343\n",
       "2  ONCE upon a time there was an old king who was...       15999\n",
       "3  There was once a peasant who had driven his co...        8907\n",
       "4  There was once a wonderful musician, who went ...        5592"
      ]
     },
     "execution_count": 44,
     "metadata": {},
     "output_type": "execute_result"
    }
   ],
   "source": [
    "data['char_count'] = data['Story'].str.len() ## this also includes spaces, to do it without spaces, you could use something like this: \"\".join()\n",
    "data[['Story','char_count']].head()"
   ]
  },
  {
   "cell_type": "markdown",
   "metadata": {},
   "source": [
    "Now we want to calculate the average word length in the data.\n",
    "\n",
    "Let's define a function that will do that for us:"
   ]
  },
  {
   "cell_type": "code",
   "execution_count": 45,
   "metadata": {},
   "outputs": [],
   "source": [
    "def avg_word(sentence):\n",
    "    words = sentence.split()\n",
    "    return (sum(len(word) for word in words)/len(words))"
   ]
  },
  {
   "cell_type": "markdown",
   "metadata": {},
   "source": [
    "We can now apply that function to all the data chunks and save that in a new column."
   ]
  },
  {
   "cell_type": "code",
   "execution_count": 46,
   "metadata": {},
   "outputs": [
    {
     "data": {
      "text/html": [
       "<div>\n",
       "<style scoped>\n",
       "    .dataframe tbody tr th:only-of-type {\n",
       "        vertical-align: middle;\n",
       "    }\n",
       "\n",
       "    .dataframe tbody tr th {\n",
       "        vertical-align: top;\n",
       "    }\n",
       "\n",
       "    .dataframe thead th {\n",
       "        text-align: right;\n",
       "    }\n",
       "</style>\n",
       "<table border=\"1\" class=\"dataframe\">\n",
       "  <thead>\n",
       "    <tr style=\"text-align: right;\">\n",
       "      <th></th>\n",
       "      <th>Story</th>\n",
       "      <th>avg_word</th>\n",
       "    </tr>\n",
       "  </thead>\n",
       "  <tbody>\n",
       "    <tr>\n",
       "      <th>0</th>\n",
       "      <td>A cat had made the acquaintance of a mouse, an...</td>\n",
       "      <td>4.176292</td>\n",
       "    </tr>\n",
       "    <tr>\n",
       "      <th>1</th>\n",
       "      <td>There was once an old goat who had seven littl...</td>\n",
       "      <td>4.153327</td>\n",
       "    </tr>\n",
       "    <tr>\n",
       "      <th>2</th>\n",
       "      <td>ONCE upon a time there was an old king who was...</td>\n",
       "      <td>4.215124</td>\n",
       "    </tr>\n",
       "    <tr>\n",
       "      <th>3</th>\n",
       "      <td>There was once a peasant who had driven his co...</td>\n",
       "      <td>4.170052</td>\n",
       "    </tr>\n",
       "    <tr>\n",
       "      <th>4</th>\n",
       "      <td>There was once a wonderful musician, who went ...</td>\n",
       "      <td>4.246717</td>\n",
       "    </tr>\n",
       "  </tbody>\n",
       "</table>\n",
       "</div>"
      ],
      "text/plain": [
       "                                               Story  avg_word\n",
       "0  A cat had made the acquaintance of a mouse, an...  4.176292\n",
       "1  There was once an old goat who had seven littl...  4.153327\n",
       "2  ONCE upon a time there was an old king who was...  4.215124\n",
       "3  There was once a peasant who had driven his co...  4.170052\n",
       "4  There was once a wonderful musician, who went ...  4.246717"
      ]
     },
     "execution_count": 46,
     "metadata": {},
     "output_type": "execute_result"
    }
   ],
   "source": [
    "data['avg_word'] = data['Story'].apply(lambda x: avg_word(x))\n",
    "data[['Story','avg_word']].head()"
   ]
  },
  {
   "cell_type": "markdown",
   "metadata": {},
   "source": [
    "We can then sort by the average word length."
   ]
  },
  {
   "cell_type": "code",
   "execution_count": 47,
   "metadata": {},
   "outputs": [
    {
     "data": {
      "text/html": [
       "<div>\n",
       "<style scoped>\n",
       "    .dataframe tbody tr th:only-of-type {\n",
       "        vertical-align: middle;\n",
       "    }\n",
       "\n",
       "    .dataframe tbody tr th {\n",
       "        vertical-align: top;\n",
       "    }\n",
       "\n",
       "    .dataframe thead th {\n",
       "        text-align: right;\n",
       "    }\n",
       "</style>\n",
       "<table border=\"1\" class=\"dataframe\">\n",
       "  <thead>\n",
       "    <tr style=\"text-align: right;\">\n",
       "      <th></th>\n",
       "      <th>Story</th>\n",
       "      <th>avg_word</th>\n",
       "    </tr>\n",
       "  </thead>\n",
       "  <tbody>\n",
       "    <tr>\n",
       "      <th>659</th>\n",
       "      <td>A GNAT settled on the horn of a Bull, and sa...</td>\n",
       "      <td>3.623377</td>\n",
       "    </tr>\n",
       "    <tr>\n",
       "      <th>656</th>\n",
       "      <td>A MAN wished to purchase an Ass, and agreed ...</td>\n",
       "      <td>3.709924</td>\n",
       "    </tr>\n",
       "    <tr>\n",
       "      <th>620</th>\n",
       "      <td>A HOUND having started a Hare on the hillsid...</td>\n",
       "      <td>3.737374</td>\n",
       "    </tr>\n",
       "    <tr>\n",
       "      <th>391</th>\n",
       "      <td>Once on a time there was a little boy who was ...</td>\n",
       "      <td>3.771277</td>\n",
       "    </tr>\n",
       "    <tr>\n",
       "      <th>895</th>\n",
       "      <td>Hare once said to Elephant : \" Let us play hid...</td>\n",
       "      <td>3.795652</td>\n",
       "    </tr>\n",
       "  </tbody>\n",
       "</table>\n",
       "</div>"
      ],
      "text/plain": [
       "                                                 Story  avg_word\n",
       "659    A GNAT settled on the horn of a Bull, and sa...  3.623377\n",
       "656    A MAN wished to purchase an Ass, and agreed ...  3.709924\n",
       "620    A HOUND having started a Hare on the hillsid...  3.737374\n",
       "391  Once on a time there was a little boy who was ...  3.771277\n",
       "895  Hare once said to Elephant : \" Let us play hid...  3.795652"
      ]
     },
     "execution_count": 47,
     "metadata": {},
     "output_type": "execute_result"
    }
   ],
   "source": [
    "data[['Story','avg_word']].sort_values(by='avg_word', ascending=True).head()"
   ]
  },
  {
   "cell_type": "markdown",
   "metadata": {},
   "source": [
    "### Count Stopwords"
   ]
  },
  {
   "cell_type": "markdown",
   "metadata": {},
   "source": [
    "Stopwords are words that are commonly used and do little to aid in the understanding of the content of a text. There is no universal list of stopwords and they vary on the style, time period and media from which your text came from.  Typically, people choose to remove stopwords from their data, as it adds extra clutter while the words themselves provide little to no insight as to the nature of the data.  For now, we are simply going to count them to get an idea of how many there are.\n",
    "\n",
    "For this tutorial, we will use the standard list of stopwords provided by the Natural Language Toolkit python library."
   ]
  },
  {
   "cell_type": "code",
   "execution_count": 48,
   "metadata": {},
   "outputs": [],
   "source": [
    "#import nltk\n",
    "#nltk.download('stopwords')"
   ]
  },
  {
   "cell_type": "code",
   "execution_count": 49,
   "metadata": {},
   "outputs": [],
   "source": [
    "from nltk.corpus import stopwords\n",
    "stop = stopwords.words('english')"
   ]
  },
  {
   "cell_type": "markdown",
   "metadata": {},
   "source": [
    "To count the number of stopwords in a chunk of data, we make a list of all the words in our data that are also in the stopword list. We can then just take the length of that list and store it in a new column"
   ]
  },
  {
   "cell_type": "code",
   "execution_count": 50,
   "metadata": {},
   "outputs": [
    {
     "data": {
      "text/html": [
       "<div>\n",
       "<style scoped>\n",
       "    .dataframe tbody tr th:only-of-type {\n",
       "        vertical-align: middle;\n",
       "    }\n",
       "\n",
       "    .dataframe tbody tr th {\n",
       "        vertical-align: top;\n",
       "    }\n",
       "\n",
       "    .dataframe thead th {\n",
       "        text-align: right;\n",
       "    }\n",
       "</style>\n",
       "<table border=\"1\" class=\"dataframe\">\n",
       "  <thead>\n",
       "    <tr style=\"text-align: right;\">\n",
       "      <th></th>\n",
       "      <th>Story</th>\n",
       "      <th>stopwords</th>\n",
       "    </tr>\n",
       "  </thead>\n",
       "  <tbody>\n",
       "    <tr>\n",
       "      <th>0</th>\n",
       "      <td>A cat had made the acquaintance of a mouse, an...</td>\n",
       "      <td>446</td>\n",
       "    </tr>\n",
       "    <tr>\n",
       "      <th>1</th>\n",
       "      <td>There was once an old goat who had seven littl...</td>\n",
       "      <td>505</td>\n",
       "    </tr>\n",
       "    <tr>\n",
       "      <th>2</th>\n",
       "      <td>ONCE upon a time there was an old king who was...</td>\n",
       "      <td>1471</td>\n",
       "    </tr>\n",
       "    <tr>\n",
       "      <th>3</th>\n",
       "      <td>There was once a peasant who had driven his co...</td>\n",
       "      <td>745</td>\n",
       "    </tr>\n",
       "    <tr>\n",
       "      <th>4</th>\n",
       "      <td>There was once a wonderful musician, who went ...</td>\n",
       "      <td>470</td>\n",
       "    </tr>\n",
       "  </tbody>\n",
       "</table>\n",
       "</div>"
      ],
      "text/plain": [
       "                                               Story  stopwords\n",
       "0  A cat had made the acquaintance of a mouse, an...        446\n",
       "1  There was once an old goat who had seven littl...        505\n",
       "2  ONCE upon a time there was an old king who was...       1471\n",
       "3  There was once a peasant who had driven his co...        745\n",
       "4  There was once a wonderful musician, who went ...        470"
      ]
     },
     "execution_count": 50,
     "metadata": {},
     "output_type": "execute_result"
    }
   ],
   "source": [
    "data['stopwords'] = data['Story'].apply(lambda x: len([x for x in x.split() if x in stop]))\n",
    "data[['Story','stopwords']].head()"
   ]
  },
  {
   "cell_type": "markdown",
   "metadata": {},
   "source": [
    "### Other Ways to Count"
   ]
  },
  {
   "cell_type": "markdown",
   "metadata": {},
   "source": [
    "There are other types of counting we might want to do. These might be more or less relevant depending on the test you are working with.\n",
    "\n",
    "For completeness, we have put them here but we will skip over them in this tutorial"
   ]
  },
  {
   "cell_type": "markdown",
   "metadata": {},
   "source": [
    "#### Counting Special Characters"
   ]
  },
  {
   "cell_type": "markdown",
   "metadata": {},
   "source": [
    "This is really only useful for Twitter or other Internet texts but you could imagine wanting to count quotations or exclamations with something similar."
   ]
  },
  {
   "cell_type": "code",
   "execution_count": 51,
   "metadata": {},
   "outputs": [
    {
     "data": {
      "text/html": [
       "<div>\n",
       "<style scoped>\n",
       "    .dataframe tbody tr th:only-of-type {\n",
       "        vertical-align: middle;\n",
       "    }\n",
       "\n",
       "    .dataframe tbody tr th {\n",
       "        vertical-align: top;\n",
       "    }\n",
       "\n",
       "    .dataframe thead th {\n",
       "        text-align: right;\n",
       "    }\n",
       "</style>\n",
       "<table border=\"1\" class=\"dataframe\">\n",
       "  <thead>\n",
       "    <tr style=\"text-align: right;\">\n",
       "      <th></th>\n",
       "      <th>Story</th>\n",
       "      <th>special_char</th>\n",
       "    </tr>\n",
       "  </thead>\n",
       "  <tbody>\n",
       "    <tr>\n",
       "      <th>0</th>\n",
       "      <td>A cat had made the acquaintance of a mouse, an...</td>\n",
       "      <td>0</td>\n",
       "    </tr>\n",
       "    <tr>\n",
       "      <th>1</th>\n",
       "      <td>There was once an old goat who had seven littl...</td>\n",
       "      <td>0</td>\n",
       "    </tr>\n",
       "    <tr>\n",
       "      <th>2</th>\n",
       "      <td>ONCE upon a time there was an old king who was...</td>\n",
       "      <td>0</td>\n",
       "    </tr>\n",
       "    <tr>\n",
       "      <th>3</th>\n",
       "      <td>There was once a peasant who had driven his co...</td>\n",
       "      <td>0</td>\n",
       "    </tr>\n",
       "    <tr>\n",
       "      <th>4</th>\n",
       "      <td>There was once a wonderful musician, who went ...</td>\n",
       "      <td>0</td>\n",
       "    </tr>\n",
       "  </tbody>\n",
       "</table>\n",
       "</div>"
      ],
      "text/plain": [
       "                                               Story  special_char\n",
       "0  A cat had made the acquaintance of a mouse, an...             0\n",
       "1  There was once an old goat who had seven littl...             0\n",
       "2  ONCE upon a time there was an old king who was...             0\n",
       "3  There was once a peasant who had driven his co...             0\n",
       "4  There was once a wonderful musician, who went ...             0"
      ]
     },
     "execution_count": 51,
     "metadata": {},
     "output_type": "execute_result"
    }
   ],
   "source": [
    "data['special_char'] = data['Story'].apply(lambda x: len([x for x in x.split() if x.startswith('#')]))\n",
    "data[['Story','special_char']].head()"
   ]
  },
  {
   "cell_type": "markdown",
   "metadata": {},
   "source": [
    "#### Counting Numbers"
   ]
  },
  {
   "cell_type": "markdown",
   "metadata": {},
   "source": [
    "This counts the number of numerical digits in a text, which for strict text may not be helpful, but mostly numerical data will make more use of this."
   ]
  },
  {
   "cell_type": "code",
   "execution_count": 52,
   "metadata": {},
   "outputs": [
    {
     "data": {
      "text/html": [
       "<div>\n",
       "<style scoped>\n",
       "    .dataframe tbody tr th:only-of-type {\n",
       "        vertical-align: middle;\n",
       "    }\n",
       "\n",
       "    .dataframe tbody tr th {\n",
       "        vertical-align: top;\n",
       "    }\n",
       "\n",
       "    .dataframe thead th {\n",
       "        text-align: right;\n",
       "    }\n",
       "</style>\n",
       "<table border=\"1\" class=\"dataframe\">\n",
       "  <thead>\n",
       "    <tr style=\"text-align: right;\">\n",
       "      <th></th>\n",
       "      <th>Story</th>\n",
       "      <th>numerics</th>\n",
       "    </tr>\n",
       "  </thead>\n",
       "  <tbody>\n",
       "    <tr>\n",
       "      <th>416</th>\n",
       "      <td>Osborn’s PipeONCE on a time there was a poor t...</td>\n",
       "      <td>9</td>\n",
       "    </tr>\n",
       "    <tr>\n",
       "      <th>414</th>\n",
       "      <td>ONCE FIVE women were reaping in a field. Each ...</td>\n",
       "      <td>4</td>\n",
       "    </tr>\n",
       "    <tr>\n",
       "      <th>696</th>\n",
       "      <td>There was once a husband and a wife who had tw...</td>\n",
       "      <td>2</td>\n",
       "    </tr>\n",
       "    <tr>\n",
       "      <th>311</th>\n",
       "      <td>There once lived an old man who had three daug...</td>\n",
       "      <td>2</td>\n",
       "    </tr>\n",
       "    <tr>\n",
       "      <th>727</th>\n",
       "      <td>Whoever, to his honor's cost,His pristine dign...</td>\n",
       "      <td>1</td>\n",
       "    </tr>\n",
       "  </tbody>\n",
       "</table>\n",
       "</div>"
      ],
      "text/plain": [
       "                                                 Story  numerics\n",
       "416  Osborn’s PipeONCE on a time there was a poor t...         9\n",
       "414  ONCE FIVE women were reaping in a field. Each ...         4\n",
       "696  There was once a husband and a wife who had tw...         2\n",
       "311  There once lived an old man who had three daug...         2\n",
       "727  Whoever, to his honor's cost,His pristine dign...         1"
      ]
     },
     "execution_count": 52,
     "metadata": {},
     "output_type": "execute_result"
    }
   ],
   "source": [
    "data['numerics'] = data['Story'].apply(lambda x: len([x for x in x.split() if x.isdigit()]))\n",
    "data[['Story','numerics']].sort_values(by='numerics', ascending=False).head()"
   ]
  },
  {
   "cell_type": "markdown",
   "metadata": {},
   "source": [
    "#### Counting Uppercase"
   ]
  },
  {
   "cell_type": "markdown",
   "metadata": {},
   "source": [
    "Counting uppercase words could give us an indication of how many sentences or proper nouns are in a text but this is likely too broad to be used to classify either on its own."
   ]
  },
  {
   "cell_type": "code",
   "execution_count": 53,
   "metadata": {},
   "outputs": [
    {
     "data": {
      "text/html": [
       "<div>\n",
       "<style scoped>\n",
       "    .dataframe tbody tr th:only-of-type {\n",
       "        vertical-align: middle;\n",
       "    }\n",
       "\n",
       "    .dataframe tbody tr th {\n",
       "        vertical-align: top;\n",
       "    }\n",
       "\n",
       "    .dataframe thead th {\n",
       "        text-align: right;\n",
       "    }\n",
       "</style>\n",
       "<table border=\"1\" class=\"dataframe\">\n",
       "  <thead>\n",
       "    <tr style=\"text-align: right;\">\n",
       "      <th></th>\n",
       "      <th>Story</th>\n",
       "      <th>upper</th>\n",
       "    </tr>\n",
       "  </thead>\n",
       "  <tbody>\n",
       "    <tr>\n",
       "      <th>0</th>\n",
       "      <td>A cat had made the acquaintance of a mouse, an...</td>\n",
       "      <td>12</td>\n",
       "    </tr>\n",
       "    <tr>\n",
       "      <th>1</th>\n",
       "      <td>There was once an old goat who had seven littl...</td>\n",
       "      <td>5</td>\n",
       "    </tr>\n",
       "    <tr>\n",
       "      <th>2</th>\n",
       "      <td>ONCE upon a time there was an old king who was...</td>\n",
       "      <td>39</td>\n",
       "    </tr>\n",
       "    <tr>\n",
       "      <th>3</th>\n",
       "      <td>There was once a peasant who had driven his co...</td>\n",
       "      <td>35</td>\n",
       "    </tr>\n",
       "    <tr>\n",
       "      <th>4</th>\n",
       "      <td>There was once a wonderful musician, who went ...</td>\n",
       "      <td>19</td>\n",
       "    </tr>\n",
       "  </tbody>\n",
       "</table>\n",
       "</div>"
      ],
      "text/plain": [
       "                                               Story  upper\n",
       "0  A cat had made the acquaintance of a mouse, an...     12\n",
       "1  There was once an old goat who had seven littl...      5\n",
       "2  ONCE upon a time there was an old king who was...     39\n",
       "3  There was once a peasant who had driven his co...     35\n",
       "4  There was once a wonderful musician, who went ...     19"
      ]
     },
     "execution_count": 53,
     "metadata": {},
     "output_type": "execute_result"
    }
   ],
   "source": [
    "data['upper'] = data['Story'].apply(lambda x: len([x for x in x.split() if x.isupper()]))\n",
    "data[['Story','upper']].head()"
   ]
  },
  {
   "cell_type": "markdown",
   "metadata": {},
   "source": [
    "# Processing Text"
   ]
  },
  {
   "cell_type": "markdown",
   "metadata": {},
   "source": [
    "A major component of doing analysis on text is the cleaning of the text prior to the analysis.\n",
    "\n",
    "Though this process destroys some elements of the text (sentence structure, for example), it is often necessary in order to describe a text analytically. Depending on your choice of cleaning techniques, some elements might be preserved better than others if that is of importance to your analysis."
   ]
  },
  {
   "cell_type": "markdown",
   "metadata": {},
   "source": [
    "## Cleaning Up Words"
   ]
  },
  {
   "cell_type": "markdown",
   "metadata": {},
   "source": [
    "This series of steps aims to clean up and standardize the text itself. This generally consists of removing common elements such as stopwords and punctuation but can be expanded to more detailed removals."
   ]
  },
  {
   "cell_type": "markdown",
   "metadata": {},
   "source": [
    "### Lowercase"
   ]
  },
  {
   "cell_type": "markdown",
   "metadata": {},
   "source": [
    "Here we enforce that all of the text is lowercase. This makes it easier to match cases and sort words.\n",
    "\n",
    "Notice we are assigning our modified column back to itself. This will save our modifications to our DataFrame"
   ]
  },
  {
   "cell_type": "code",
   "execution_count": 54,
   "metadata": {},
   "outputs": [
    {
     "data": {
      "text/plain": [
       "0    a cat had made the acquaintance of a mouse, an...\n",
       "1    there was once an old goat who had seven littl...\n",
       "2    once upon a time there was an old king who was...\n",
       "3    there was once a peasant who had driven his co...\n",
       "4    there was once a wonderful musician, who went ...\n",
       "Name: Story, dtype: object"
      ]
     },
     "execution_count": 54,
     "metadata": {},
     "output_type": "execute_result"
    }
   ],
   "source": [
    "data['Story'] = data['Story'].apply(lambda x: \" \".join(x.lower() for x in x.split()))\n",
    "data['Story'].head()"
   ]
  },
  {
   "cell_type": "markdown",
   "metadata": {},
   "source": [
    "### Remove Punctuation"
   ]
  },
  {
   "cell_type": "markdown",
   "metadata": {},
   "source": [
    "Here we remove all punctuation from the data. This allows us to focus on the words only as well as assist in matching."
   ]
  },
  {
   "cell_type": "code",
   "execution_count": 55,
   "metadata": {},
   "outputs": [
    {
     "data": {
      "text/plain": [
       "0    a cat had made the acquaintance of a mouse and...\n",
       "1    there was once an old goat who had seven littl...\n",
       "2    once upon a time there was an old king who was...\n",
       "3    there was once a peasant who had driven his co...\n",
       "4    there was once a wonderful musician who went q...\n",
       "Name: Story, dtype: object"
      ]
     },
     "execution_count": 55,
     "metadata": {},
     "output_type": "execute_result"
    }
   ],
   "source": [
    "data['Story'] = data['Story'].str.replace('[^\\w\\s]','')\n",
    "data['Story'].head()"
   ]
  },
  {
   "cell_type": "markdown",
   "metadata": {},
   "source": [
    "### Remove Stopwords"
   ]
  },
  {
   "cell_type": "markdown",
   "metadata": {},
   "source": [
    "Similar to what we did earlier when we counted stopwords, we now want to remove the stopwords. We will again use the NLTK list of stopwords but this time keep a list of words that do not appear in the list of stopwords."
   ]
  },
  {
   "cell_type": "code",
   "execution_count": 56,
   "metadata": {},
   "outputs": [],
   "source": [
    "from nltk.corpus import stopwords\n",
    "stop = stopwords.words('english')\n",
    "stop.append(\"come\")"
   ]
  },
  {
   "cell_type": "code",
   "execution_count": 57,
   "metadata": {},
   "outputs": [
    {
     "data": {
      "text/plain": [
       "0    cat made acquaintance mouse said much great lo...\n",
       "1    old goat seven little ones fond ever mother ch...\n",
       "2    upon time old king ill thought likely deathbed...\n",
       "3    peasant driven cow fair sold seven thalers way...\n",
       "4    wonderful musician went quite alone forest tho...\n",
       "Name: Story, dtype: object"
      ]
     },
     "execution_count": 57,
     "metadata": {},
     "output_type": "execute_result"
    }
   ],
   "source": [
    "data['Story'] = data['Story'].apply(lambda x: \" \".join(x for x in x.split() if x not in stop))\n",
    "data['Story'].head()"
   ]
  },
  {
   "cell_type": "markdown",
   "metadata": {},
   "source": [
    "### Remove Frequent Words"
   ]
  },
  {
   "cell_type": "markdown",
   "metadata": {},
   "source": [
    "If we want to catch common words that might have slipped through the stopword removal, we can build out a list of the most common words remaining in our text.\n",
    "\n",
    "Here we have built a list of the 10 most common words. Some of these words might actually be relevant to our analysis so it is important to be careful with this method."
   ]
  },
  {
   "cell_type": "code",
   "execution_count": 58,
   "metadata": {},
   "outputs": [
    {
     "data": {
      "text/plain": [
       "said      9644\n",
       "one       4980\n",
       "came      3502\n",
       "little    3489\n",
       "went      3317\n",
       "could     3040\n",
       "would     3023\n",
       "king      2846\n",
       "old       2764\n",
       "man       2375\n",
       "dtype: int64"
      ]
     },
     "execution_count": 58,
     "metadata": {},
     "output_type": "execute_result"
    }
   ],
   "source": [
    "freq = pd.Series(' '.join(data['Story']).split()).value_counts()[:10]\n",
    "freq"
   ]
  },
  {
   "cell_type": "markdown",
   "metadata": {},
   "source": [
    "We now follow the same procedure with which we removed stopwords to remove the most frequent words."
   ]
  },
  {
   "cell_type": "code",
   "execution_count": 59,
   "metadata": {},
   "outputs": [
    {
     "data": {
      "text/plain": [
       "0    cat made acquaintance mouse much great love fr...\n",
       "1    goat seven ones fond ever mother children day ...\n",
       "2    upon time ill thought likely deathbed send tru...\n",
       "3    peasant driven cow fair sold seven thalers way...\n",
       "4    wonderful musician quite alone forest thought ...\n",
       "Name: Story, dtype: object"
      ]
     },
     "execution_count": 59,
     "metadata": {},
     "output_type": "execute_result"
    }
   ],
   "source": [
    "freq = list(freq.index)\n",
    "data['Story'] = data['Story'].apply(lambda x: \" \".join(x for x in x.split() if x not in freq))\n",
    "data['Story'].head()"
   ]
  },
  {
   "cell_type": "markdown",
   "metadata": {},
   "source": [
    "### Remove Rare Words"
   ]
  },
  {
   "cell_type": "markdown",
   "metadata": {},
   "source": [
    "By analogy, we can remove the most rare words. Some of these are strange misspellings or [hapax legomenon](https://en.wikipedia.org/wiki/Hapax_legomenon) (one off words that don't appear anywhere else in the text)."
   ]
  },
  {
   "cell_type": "code",
   "execution_count": 60,
   "metadata": {},
   "outputs": [
    {
     "data": {
      "text/plain": [
       "akim             1\n",
       "peals            1\n",
       "yeliseihushed    1\n",
       "offhand          1\n",
       "plugged          1\n",
       "requitesas       1\n",
       "wellguests       1\n",
       "frills           1\n",
       "tranquilly       1\n",
       "againthis        1\n",
       "dtype: int64"
      ]
     },
     "execution_count": 60,
     "metadata": {},
     "output_type": "execute_result"
    }
   ],
   "source": [
    "freq = pd.Series(' '.join(data['Story']).split()).value_counts()[-10:]\n",
    "freq"
   ]
  },
  {
   "cell_type": "markdown",
   "metadata": {},
   "source": [
    "Again, removing words following the same process as the stopword removal."
   ]
  },
  {
   "cell_type": "code",
   "execution_count": 61,
   "metadata": {},
   "outputs": [
    {
     "data": {
      "text/plain": [
       "0    cat made acquaintance mouse much great love fr...\n",
       "1    goat seven ones fond ever mother children day ...\n",
       "2    upon time ill thought likely deathbed send tru...\n",
       "3    peasant driven cow fair sold seven thalers way...\n",
       "4    wonderful musician quite alone forest thought ...\n",
       "Name: Story, dtype: object"
      ]
     },
     "execution_count": 61,
     "metadata": {},
     "output_type": "execute_result"
    }
   ],
   "source": [
    "freq = list(freq.index)\n",
    "data['Story'] = data['Story'].apply(lambda x: \" \".join(x for x in x.split() if x not in freq))\n",
    "data['Story'].head()"
   ]
  },
  {
   "cell_type": "markdown",
   "metadata": {},
   "source": [
    "### Correct Spelling"
   ]
  },
  {
   "cell_type": "markdown",
   "metadata": {},
   "source": [
    "Misspellings can cause inaccuracies in text analysis. For example, \"the\" and \"teh\" are likely intended to be the same word and a reader might gloss over that typo, but a computer would view them as distinct.\n",
    "\n",
    "To help address this we will leverage the [TextBlob package](https://textblob.readthedocs.io/en/dev/) to check the spelling.\n",
    "\n",
    "Since this can be slow and often of questionable usefulness, we have limited the check to the first 5 rows of our DataFrame.\n",
    "\n",
    "It is also worth keeping in mind that, much like autocorrect on your phone, the spellchecking here is not going to be perfectly accurate and could result in just as many errors as it fixes (especially if you are working on text from edited or published sources)."
   ]
  },
  {
   "cell_type": "code",
   "execution_count": 62,
   "metadata": {
    "scrolled": true
   },
   "outputs": [
    {
     "data": {
      "text/plain": [
       "0    cat made acquaintance mouse much great love fr...\n",
       "1    goat seven ones fond ever mother children day ...\n",
       "2    upon time ill thought likely deathbed send tru...\n",
       "3    peasant driven cow fair sold seven thaler way ...\n",
       "4    wonderful musician quite alone forest thought ...\n",
       "Name: Story, dtype: object"
      ]
     },
     "execution_count": 62,
     "metadata": {},
     "output_type": "execute_result"
    }
   ],
   "source": [
    "from textblob import TextBlob\n",
    "data['Story'][:5].apply(lambda x: str(TextBlob(x).correct()))"
   ]
  },
  {
   "cell_type": "markdown",
   "metadata": {},
   "source": [
    "### Tokenization"
   ]
  },
  {
   "cell_type": "markdown",
   "metadata": {},
   "source": [
    "Tokenization is the process of splitting up a block of text into a sequence of words or sentences.\n",
    "\n",
    "For those familiar with R and the Tidyverse, this would be referred to as unnesting tokens\n",
    "\n",
    "Here we show all the tokenized words from the first data chunk in our Dataframe."
   ]
  },
  {
   "cell_type": "code",
   "execution_count": 63,
   "metadata": {},
   "outputs": [],
   "source": [
    "#import nltk\n",
    "#nltk.download('punkt')"
   ]
  },
  {
   "cell_type": "code",
   "execution_count": 64,
   "metadata": {
    "scrolled": true
   },
   "outputs": [
    {
     "data": {
      "text/plain": [
       "WordList(['cat', 'made', 'acquaintance', 'mouse', 'much', 'great', 'love', 'friendship', 'felt', 'last', 'mouse', 'agreed', 'live', 'keep', 'house', 'together', 'must', 'make', 'preparations', 'winter', 'else', 'shall', 'suffer', 'hunger', 'cat', 'mouse', 'can', 'not', 'venture', 'everywhere', 'end', 'caught', 'trap', 'good', 'advice', 'followed', 'bought', 'pot', 'fat', 'know', 'store', 'finally', 'much', 'consideration', 'cat', 'know', 'place', 'better', 'stored', 'church', 'dares', 'take', 'anything', 'away', 'put', 'beneath', 'altar', 'touch', 'need', 'pot', 'stored', 'safely', 'away', 'long', 'cat', 'took', 'great', 'longing', 'mouse', 'wanted', 'tell', 'mouse', 'cousin', 'brought', 'son', 'world', 'asked', 'godfather', 'white', 'brown', 'spots', 'hold', 'baptismal', 'font', 'let', 'go', 'today', 'look', 'house', 'yes', 'yes', 'answered', 'mouse', 'means', 'go', 'get', 'anything', 'good', 'eat', 'think', 'like', 'drink', 'drop', 'sweet', 'red', 'christening', 'wine', 'however', 'untrue', 'cat', 'cousin', 'asked', 'godfather', 'straight', 'church', 'crept', 'pot', 'fat', 'began', 'lick', 'licked', 'top', 'fat', 'stroll', 'roofs', 'town', 'looked', 'opportunities', 'stretched', 'sun', 'licking', 'whiskers', 'whenever', 'thought', 'pot', 'fat', 'return', 'home', 'evening', 'well', 'mouse', 'must', 'happy', 'day', 'everything', 'well', 'answered', 'cat', 'name', 'give', 'child', 'asked', 'mouse', 'topoff', 'cat', 'quite', 'coolly', 'topoff', 'cried', 'mouse', 'odd', 'uncommon', 'name', 'usual', 'family', 'matter', 'cat', 'worse', 'crumbthief', 'godchildren', 'calledbefore', 'long', 'cat', 'seized', 'another', 'fit', 'longing', 'mouse', 'must', 'favor', 'manage', 'house', 'alone', 'day', 'asked', 'godfather', 'since', 'child', 'white', 'ring', 'around', 'neck', 'can', 'not', 'refuse', 'good', 'mouse', 'consented', 'however', 'cat', 'crept', 'behind', 'town', 'wall', 'church', 'devoured', 'half', 'pot', 'fat', 'nothing', 'tastes', 'good', 'eats', 'oneself', 'quite', 'satisfied', 'days', 'work', 'arrived', 'home', 'mouse', 'asked', 'name', 'child', 'christened', 'halfgone', 'answered', 'cat', 'halfgone', 'saying', 'never', 'heard', 'name', 'life', 'ill', 'wager', 'almanacthe', 'cats', 'mouth', 'soon', 'began', 'water', 'delicious', 'goods', 'good', 'things', 'threes', 'mouse', 'asked', 'godfather', 'child', 'totally', 'black', 'white', 'paws', 'otherwise', 'single', 'white', 'hair', 'whole', 'body', 'happens', 'every', 'years', 'let', 'go', 'wont', 'topoff', 'halfgone', 'answered', 'mouse', 'odd', 'names', 'make', 'stop', 'think', 'sit', 'home', 'cat', 'dark', 'gray', 'fur', 'coat', 'long', 'braid', 'hair', 'capturing', 'fantasies', 'go', 'daytime', 'cats', 'absence', 'mouse', 'cleaned', 'house', 'put', 'order', 'greedy', 'cat', 'devoured', 'rest', 'fat', 'peace', 'everything', 'eaten', 'well', 'filled', 'fat', 'return', 'home', 'nighttime', 'mouse', 'immediately', 'asked', 'name', 'given', 'third', 'child', 'like', 'either', 'cat', 'name', 'allgone', 'allgone', 'cried', 'mouse', 'worrisome', 'name', 'never', 'seen', 'print', 'allgone', 'mean', 'shook', 'head', 'curled', 'lay', 'sleepfrom', 'time', 'forth', 'invited', 'cat', 'godfather', 'winter', 'longer', 'anything', 'found', 'outside', 'mouse', 'thought', 'stored', 'food', 'cat', 'go', 'pot', 'fat', 'stored', 'taste', 'good', 'yes', 'answered', 'cat', 'enjoy', 'much', 'enjoy', 'sticking', 'dainty', 'tongue', 'window', 'set', 'way', 'arrived', 'pot', 'fat', 'sure', 'still', 'place', 'empty', 'alas', 'mouse', 'see', 'happened', 'comes', 'light', 'true', 'friend', 'ate', 'everything', 'serving', 'godfather', 'first', 'top', 'half', 'done', 'quiet', 'cried', 'cat', 'word', 'eat', 'tooall', 'gone', 'already', 'poor', 'mouses', 'lips', 'scarcely', 'spoken', 'cat', 'sprang', 'seized', 'swallowed', 'see', 'way', 'world'])"
      ]
     },
     "execution_count": 64,
     "metadata": {},
     "output_type": "execute_result"
    }
   ],
   "source": [
    "TextBlob(data['Story'][0]).words"
   ]
  },
  {
   "cell_type": "markdown",
   "metadata": {},
   "source": [
    "## Stemming"
   ]
  },
  {
   "cell_type": "markdown",
   "metadata": {},
   "source": [
    "Stemming is the process of removing suffices, like \"ed\" or \"ing\".\n",
    "\n",
    "We will use another standard NLTK package, PorterStemmer, to do the stemming."
   ]
  },
  {
   "cell_type": "code",
   "execution_count": 65,
   "metadata": {},
   "outputs": [
    {
     "data": {
      "text/plain": [
       "0    cat made acquaint mous much great love friends...\n",
       "1    goat seven one fond ever mother children day g...\n",
       "2    upon time ill thought like deathb send trusti ...\n",
       "3    peasant driven cow fair sold seven thaler way ...\n",
       "4    wonder musician quit alon forest thought manne...\n",
       "Name: Story, dtype: object"
      ]
     },
     "execution_count": 65,
     "metadata": {},
     "output_type": "execute_result"
    }
   ],
   "source": [
    "from nltk.stem import PorterStemmer\n",
    "st = PorterStemmer()\n",
    "data['Story'][:5].apply(lambda x: \" \".join([st.stem(word) for word in x.split()]))"
   ]
  },
  {
   "cell_type": "markdown",
   "metadata": {},
   "source": [
    "As we can see \"wonderful\" became \"wonder\", which could help an analysis, but \"deathbed\" became \"deathb\" which is less helpful."
   ]
  },
  {
   "cell_type": "markdown",
   "metadata": {},
   "source": [
    "## Lemmatization"
   ]
  },
  {
   "cell_type": "markdown",
   "metadata": {},
   "source": [
    "Lemmatization is often a more useful approach than stemming because it leverages an understanding of the word itself to convert the word back to its root word. However, this means lemmatization is less aggressive than stemming (probably a good thing)."
   ]
  },
  {
   "cell_type": "code",
   "execution_count": 66,
   "metadata": {},
   "outputs": [],
   "source": [
    "#import nltk\n",
    "#nltk.download('wordnet')"
   ]
  },
  {
   "cell_type": "code",
   "execution_count": 67,
   "metadata": {},
   "outputs": [
    {
     "data": {
      "text/plain": [
       "0    cat made acquaintance mouse much great love fr...\n",
       "1    goat seven one fond ever mother child day go w...\n",
       "2    upon time ill thought likely deathbed send tru...\n",
       "3    peasant driven cow fair sold seven thalers way...\n",
       "4    wonderful musician quite alone forest thought ...\n",
       "Name: Story, dtype: object"
      ]
     },
     "execution_count": 67,
     "metadata": {},
     "output_type": "execute_result"
    }
   ],
   "source": [
    "from textblob import Word\n",
    "data['Story'] = data['Story'].apply(lambda x: \" \".join([Word(word).lemmatize() for word in x.split()]))\n",
    "data['Story'].head()"
   ]
  },
  {
   "cell_type": "markdown",
   "metadata": {},
   "source": [
    "At this point we have a several options for cleaning and structuring our text data. The next section will focus on more advanced ways to study text analytically."
   ]
  },
  {
   "cell_type": "markdown",
   "metadata": {},
   "source": [
    "# Advanced Text Processing"
   ]
  },
  {
   "cell_type": "markdown",
   "metadata": {},
   "source": [
    "This section focuses on more complex methods of analyzing textual data. We will continue to work with our same DataFrame."
   ]
  },
  {
   "cell_type": "markdown",
   "metadata": {},
   "source": [
    "## N-grams"
   ]
  },
  {
   "cell_type": "markdown",
   "metadata": {},
   "source": [
    "N-grams are combinations of multiple words as they appear in the text. The N refers to the number of words captured in the list. N-grams with N=1 are referred unigrams and are just a nested list of all the words in the text. Following a similar pattern, bigrams (N=2), trigrams (N=3), etc. can be used.\n",
    "\n",
    "N-grams allow you to capture the structure of the text which can be very useful. For instance, counting the number of bigrams where \"said\" was preceded by \"he\" vs \"she\" could give you an idea of the gender breakdown of speakers in a text. However, if you make your N-grams too long, you lose the ability to make comparisons.\n",
    "\n",
    "Another concern, especially in very large data sets, is that the memory storage of N-grams scales with N (bigrams are twice as large as unigrams, for example) and the time to process the N-grams can balloon dramatically as well.\n",
    "\n",
    "All that being said, we would suggest focusing on bigrams and trigrams as useful analysis tools."
   ]
  },
  {
   "cell_type": "code",
   "execution_count": 68,
   "metadata": {},
   "outputs": [],
   "source": [
    "from nltk.stem import WordNetLemmatizer\n",
    "lemmatizer = WordNetLemmatizer()\n",
    "n_grams = TextBlob(data['Story'][1]).ngrams(2)"
   ]
  },
  {
   "cell_type": "code",
   "execution_count": 69,
   "metadata": {},
   "outputs": [],
   "source": [
    "characters=[]\n",
    "for i in ['wolf', 'mouse', 'rabbit', 'children']:\n",
    "     characters.append(lemmatizer.lemmatize(i))"
   ]
  },
  {
   "cell_type": "code",
   "execution_count": 70,
   "metadata": {},
   "outputs": [
    {
     "name": "stdout",
     "output_type": "stream",
     "text": [
      "['mother', 'child']\n",
      "['dear', 'child']\n",
      "['guard', 'wolf']\n",
      "['dear', 'child']\n",
      "['knew', 'wolf']\n",
      "['must', 'wolf']\n",
      "['wolf', 'wolf']\n",
      "['dear', 'child']\n",
      "['something', 'wolf']\n",
      "['must', 'wolf']\n",
      "['wolf', 'wolf']\n",
      "['thinking', 'wolf']\n",
      "['cried', 'wolf']\n",
      "['open', 'child']\n",
      "['saw', 'wolf']\n",
      "['clockcase', 'wolf']\n",
      "['clockcase', 'wolf']\n",
      "['sought', 'child']\n",
      "['heard', 'wolf']\n",
      "['saw', 'wolf']\n",
      "['poor', 'child']\n",
      "['cut', 'wolf']\n",
      "['wiserwhen', 'wolf']\n",
      "['running', 'wolf']\n",
      "['dead', 'wolf']\n"
     ]
    }
   ],
   "source": [
    "for n in n_grams:\n",
    "    if n[1] in characters:\n",
    "        print(n)"
   ]
  },
  {
   "cell_type": "code",
   "execution_count": 71,
   "metadata": {},
   "outputs": [
    {
     "name": "stdout",
     "output_type": "stream",
     "text": [
      "(('open', 'door'), 4)\n",
      "(('dear', 'child'), 3)\n",
      "(('black', 'paw'), 3)\n",
      "(('dear', 'mother'), 3)\n",
      "(('brought', 'something'), 3)\n",
      "(('hoarse', 'voice'), 2)\n",
      "(('door', 'dear'), 2)\n",
      "(('child', 'mother'), 2)\n",
      "(('must', 'wolf'), 2)\n",
      "(('wolf', 'wolf'), 2)\n"
     ]
    }
   ],
   "source": [
    "from nltk import ngrams\n",
    "from collections import Counter\n",
    "\n",
    "ngram_counts = Counter(ngrams(data['Story'][1].split(), 2))\n",
    "for n in ngram_counts.most_common(10):\n",
    "    print(n)"
   ]
  },
  {
   "cell_type": "markdown",
   "metadata": {},
   "source": [
    "## Term Frequency"
   ]
  },
  {
   "cell_type": "markdown",
   "metadata": {},
   "source": [
    "Term Frequency is a measure of how often a term appears in a document. There are different ways to define this but the simplest is a raw count of the number of times each term appears.\n",
    "\n",
    "There are other ways of defining this including a true term frequency and a log scaled definition. All three have been implemented below but the default will the raw count definition, as it matches with the remainder of the definitions in this tutorial.\n",
    "\n",
    "|Definition|Formula|\n",
    "|---|---|\n",
    "|Raw Count|$$f_{t,d}$$|\n",
    "|Term Frequency|$$\\frac{f_{t,d}}{\\sum_{t'\\in d}f_{t',d}}$$|\n",
    "|Log Scaled|$$\\log(1+f_{t,d})$$|\n",
    "\n"
   ]
  },
  {
   "cell_type": "code",
   "execution_count": 72,
   "metadata": {},
   "outputs": [
    {
     "data": {
      "text/html": [
       "<div>\n",
       "<style scoped>\n",
       "    .dataframe tbody tr th:only-of-type {\n",
       "        vertical-align: middle;\n",
       "    }\n",
       "\n",
       "    .dataframe tbody tr th {\n",
       "        vertical-align: top;\n",
       "    }\n",
       "\n",
       "    .dataframe thead th {\n",
       "        text-align: right;\n",
       "    }\n",
       "</style>\n",
       "<table border=\"1\" class=\"dataframe\">\n",
       "  <thead>\n",
       "    <tr style=\"text-align: right;\">\n",
       "      <th></th>\n",
       "      <th>words</th>\n",
       "      <th>tf</th>\n",
       "    </tr>\n",
       "  </thead>\n",
       "  <tbody>\n",
       "    <tr>\n",
       "      <th>434</th>\n",
       "      <td>john</td>\n",
       "      <td>39.0</td>\n",
       "    </tr>\n",
       "    <tr>\n",
       "      <th>435</th>\n",
       "      <td>trusty</td>\n",
       "      <td>37.0</td>\n",
       "    </tr>\n",
       "    <tr>\n",
       "      <th>1070</th>\n",
       "      <td>musician</td>\n",
       "      <td>31.0</td>\n",
       "    </tr>\n",
       "    <tr>\n",
       "      <th>875</th>\n",
       "      <td>thou</td>\n",
       "      <td>31.0</td>\n",
       "    </tr>\n",
       "    <tr>\n",
       "      <th>250</th>\n",
       "      <td>wolf</td>\n",
       "      <td>27.0</td>\n",
       "    </tr>\n",
       "    <tr>\n",
       "      <th>16</th>\n",
       "      <td>cried</td>\n",
       "      <td>27.0</td>\n",
       "    </tr>\n",
       "    <tr>\n",
       "      <th>874</th>\n",
       "      <td>peasant</td>\n",
       "      <td>25.0</td>\n",
       "    </tr>\n",
       "    <tr>\n",
       "      <th>0</th>\n",
       "      <td>cat</td>\n",
       "      <td>21.0</td>\n",
       "    </tr>\n",
       "    <tr>\n",
       "      <th>10</th>\n",
       "      <td>go</td>\n",
       "      <td>20.0</td>\n",
       "    </tr>\n",
       "    <tr>\n",
       "      <th>876</th>\n",
       "      <td>aik</td>\n",
       "      <td>20.0</td>\n",
       "    </tr>\n",
       "  </tbody>\n",
       "</table>\n",
       "</div>"
      ],
      "text/plain": [
       "         words    tf\n",
       "434       john  39.0\n",
       "435     trusty  37.0\n",
       "1070  musician  31.0\n",
       "875       thou  31.0\n",
       "250       wolf  27.0\n",
       "16       cried  27.0\n",
       "874    peasant  25.0\n",
       "0          cat  21.0\n",
       "10          go  20.0\n",
       "876        aik  20.0"
      ]
     },
     "execution_count": 72,
     "metadata": {},
     "output_type": "execute_result"
    }
   ],
   "source": [
    "## Raw Count Definition\n",
    "tf1 = (data['Story'][0:5]).apply(lambda x: pd.value_counts(x.split(\" \"))).sum(axis = 0).reset_index()\n",
    "\n",
    "## Term Frequency Definition\n",
    "#tf1 = (data['Story'][0:5]).apply(lambda x: (pd.value_counts(x.split(\" \")))/len(x.split(\" \"))).sum(axis = 0).reset_index() \n",
    "\n",
    "## Log Scaled Definition\n",
    "#tf1 = (data['Story'][0:10]).apply(lambda x: 1.0+np.log(pd.value_counts(x.split(\" \")))).sum(axis = 0).reset_index() \n",
    "\n",
    "tf1.columns = ['words','tf']\n",
    "tf1.sort_values(by='tf', ascending=False)[:10]"
   ]
  },
  {
   "cell_type": "markdown",
   "metadata": {},
   "source": [
    "## Inverse Document Frequency"
   ]
  },
  {
   "cell_type": "markdown",
   "metadata": {},
   "source": [
    "Inverse Document Frequency is a measure of how common or rare a term is across multiple documents. That gives a measure of how much weight that term carries.\n",
    "\n",
    "For a more concrete analogy of this, imagine a room full of NBA players; here a 7 foot tall person wouldn't be all that shocking. However if you have a room full of kindergarten students, a 7 foot tall person would be a huge surprise.\n",
    "\n",
    "The simplest and standard definition of Inverse Document Frequency is to take the logarithm of the ratio of the number of documents containing a term to the total number of documents.\n",
    "\n",
    "$$-\\log\\frac{n_t}{N} = \\log\\frac{N}{n_t}$$\n"
   ]
  },
  {
   "cell_type": "code",
   "execution_count": 73,
   "metadata": {},
   "outputs": [
    {
     "data": {
      "text/html": [
       "<div>\n",
       "<style scoped>\n",
       "    .dataframe tbody tr th:only-of-type {\n",
       "        vertical-align: middle;\n",
       "    }\n",
       "\n",
       "    .dataframe tbody tr th {\n",
       "        vertical-align: top;\n",
       "    }\n",
       "\n",
       "    .dataframe thead th {\n",
       "        text-align: right;\n",
       "    }\n",
       "</style>\n",
       "<table border=\"1\" class=\"dataframe\">\n",
       "  <thead>\n",
       "    <tr style=\"text-align: right;\">\n",
       "      <th></th>\n",
       "      <th>words</th>\n",
       "      <th>tf</th>\n",
       "      <th>idf</th>\n",
       "    </tr>\n",
       "  </thead>\n",
       "  <tbody>\n",
       "    <tr>\n",
       "      <th>0</th>\n",
       "      <td>cat</td>\n",
       "      <td>21.0</td>\n",
       "      <td>1.162270</td>\n",
       "    </tr>\n",
       "    <tr>\n",
       "      <th>1</th>\n",
       "      <td>mouse</td>\n",
       "      <td>20.0</td>\n",
       "      <td>2.591737</td>\n",
       "    </tr>\n",
       "    <tr>\n",
       "      <th>2</th>\n",
       "      <td>fat</td>\n",
       "      <td>9.0</td>\n",
       "      <td>0.847665</td>\n",
       "    </tr>\n",
       "    <tr>\n",
       "      <th>3</th>\n",
       "      <td>name</td>\n",
       "      <td>10.0</td>\n",
       "      <td>1.262168</td>\n",
       "    </tr>\n",
       "    <tr>\n",
       "      <th>4</th>\n",
       "      <td>pot</td>\n",
       "      <td>7.0</td>\n",
       "      <td>1.449952</td>\n",
       "    </tr>\n",
       "    <tr>\n",
       "      <th>5</th>\n",
       "      <td>asked</td>\n",
       "      <td>12.0</td>\n",
       "      <td>0.797529</td>\n",
       "    </tr>\n",
       "    <tr>\n",
       "      <th>6</th>\n",
       "      <td>good</td>\n",
       "      <td>19.0</td>\n",
       "      <td>0.584708</td>\n",
       "    </tr>\n",
       "    <tr>\n",
       "      <th>7</th>\n",
       "      <td>godfather</td>\n",
       "      <td>6.0</td>\n",
       "      <td>4.614020</td>\n",
       "    </tr>\n",
       "    <tr>\n",
       "      <th>8</th>\n",
       "      <td>child</td>\n",
       "      <td>19.0</td>\n",
       "      <td>1.100817</td>\n",
       "    </tr>\n",
       "    <tr>\n",
       "      <th>9</th>\n",
       "      <td>answered</td>\n",
       "      <td>19.0</td>\n",
       "      <td>1.273910</td>\n",
       "    </tr>\n",
       "  </tbody>\n",
       "</table>\n",
       "</div>"
      ],
      "text/plain": [
       "       words    tf       idf\n",
       "0        cat  21.0  1.162270\n",
       "1      mouse  20.0  2.591737\n",
       "2        fat   9.0  0.847665\n",
       "3       name  10.0  1.262168\n",
       "4        pot   7.0  1.449952\n",
       "5      asked  12.0  0.797529\n",
       "6       good  19.0  0.584708\n",
       "7  godfather   6.0  4.614020\n",
       "8      child  19.0  1.100817\n",
       "9   answered  19.0  1.273910"
      ]
     },
     "execution_count": 73,
     "metadata": {},
     "output_type": "execute_result"
    }
   ],
   "source": [
    "for i,word in enumerate(tf1['words']):\n",
    "    tf1.loc[i, 'idf'] = np.log(data.shape[0]/(len(data[data['Story'].str.contains(word)])))\n",
    "\n",
    "tf1[:10]"
   ]
  },
  {
   "cell_type": "markdown",
   "metadata": {},
   "source": [
    "## Term Frequency – Inverse Document Frequency ([TF-IDF](https://en.wikipedia.org/wiki/Tf%E2%80%93idf))"
   ]
  },
  {
   "cell_type": "markdown",
   "metadata": {},
   "source": [
    "Term Frequency – Inverse Document Frequency (TF-IDF) is a composite measure of both Term Frequency and Inverse Document Frequency.\n",
    "\n",
    "From [Wikipedia](https://en.wikipedia.org/wiki/Tf%E2%80%93idf):\n",
    "\"A high weight in TF–IDF is reached by a high term frequency (in the given document) and a low document frequency of the term in the whole collection of documents; the weights hence tend to filter out common terms\"\n",
    "\n",
    "More concisely, a high TD-IDF says that a word is very important in the documents in which it appears.\n",
    "\n",
    "There are a few weighting schemes for TF-IDF. Here we use scheme (1).\n",
    "\n",
    "|Weighting Scheme|Document Term Weight|\n",
    "|---|---|\n",
    "|(1)|$$f_{t,d}\\cdot\\log\\frac{N}{n_t}$$|\n",
    "|(2)|$$1+\\log(f_{t,d})$$|\n",
    "|(3)|$$(1+\\log(f_{t,d}))\\cdot\\log\\frac{N}{n_t}$$|"
   ]
  },
  {
   "cell_type": "code",
   "execution_count": 74,
   "metadata": {
    "scrolled": true
   },
   "outputs": [
    {
     "data": {
      "text/html": [
       "<div>\n",
       "<style scoped>\n",
       "    .dataframe tbody tr th:only-of-type {\n",
       "        vertical-align: middle;\n",
       "    }\n",
       "\n",
       "    .dataframe tbody tr th {\n",
       "        vertical-align: top;\n",
       "    }\n",
       "\n",
       "    .dataframe thead th {\n",
       "        text-align: right;\n",
       "    }\n",
       "</style>\n",
       "<table border=\"1\" class=\"dataframe\">\n",
       "  <thead>\n",
       "    <tr style=\"text-align: right;\">\n",
       "      <th></th>\n",
       "      <th>words</th>\n",
       "      <th>tf</th>\n",
       "      <th>idf</th>\n",
       "      <th>tfidf</th>\n",
       "    </tr>\n",
       "  </thead>\n",
       "  <tbody>\n",
       "    <tr>\n",
       "      <th>434</th>\n",
       "      <td>john</td>\n",
       "      <td>39.0</td>\n",
       "      <td>4.038656</td>\n",
       "      <td>157.507571</td>\n",
       "    </tr>\n",
       "    <tr>\n",
       "      <th>435</th>\n",
       "      <td>trusty</td>\n",
       "      <td>37.0</td>\n",
       "      <td>4.172187</td>\n",
       "      <td>154.370921</td>\n",
       "    </tr>\n",
       "    <tr>\n",
       "      <th>876</th>\n",
       "      <td>aik</td>\n",
       "      <td>20.0</td>\n",
       "      <td>6.811244</td>\n",
       "      <td>136.224888</td>\n",
       "    </tr>\n",
       "    <tr>\n",
       "      <th>1070</th>\n",
       "      <td>musician</td>\n",
       "      <td>31.0</td>\n",
       "      <td>4.038656</td>\n",
       "      <td>125.198325</td>\n",
       "    </tr>\n",
       "    <tr>\n",
       "      <th>874</th>\n",
       "      <td>peasant</td>\n",
       "      <td>25.0</td>\n",
       "      <td>2.548565</td>\n",
       "      <td>63.714113</td>\n",
       "    </tr>\n",
       "    <tr>\n",
       "      <th>250</th>\n",
       "      <td>wolf</td>\n",
       "      <td>27.0</td>\n",
       "      <td>2.278645</td>\n",
       "      <td>61.523412</td>\n",
       "    </tr>\n",
       "    <tr>\n",
       "      <th>880</th>\n",
       "      <td>wow</td>\n",
       "      <td>12.0</td>\n",
       "      <td>4.731803</td>\n",
       "      <td>56.781634</td>\n",
       "    </tr>\n",
       "    <tr>\n",
       "      <th>1</th>\n",
       "      <td>mouse</td>\n",
       "      <td>20.0</td>\n",
       "      <td>2.591737</td>\n",
       "      <td>51.834733</td>\n",
       "    </tr>\n",
       "    <tr>\n",
       "      <th>877</th>\n",
       "      <td>jew</td>\n",
       "      <td>16.0</td>\n",
       "      <td>2.750801</td>\n",
       "      <td>44.012822</td>\n",
       "    </tr>\n",
       "    <tr>\n",
       "      <th>252</th>\n",
       "      <td>kid</td>\n",
       "      <td>10.0</td>\n",
       "      <td>3.920873</td>\n",
       "      <td>39.208726</td>\n",
       "    </tr>\n",
       "  </tbody>\n",
       "</table>\n",
       "</div>"
      ],
      "text/plain": [
       "         words    tf       idf       tfidf\n",
       "434       john  39.0  4.038656  157.507571\n",
       "435     trusty  37.0  4.172187  154.370921\n",
       "876        aik  20.0  6.811244  136.224888\n",
       "1070  musician  31.0  4.038656  125.198325\n",
       "874    peasant  25.0  2.548565   63.714113\n",
       "250       wolf  27.0  2.278645   61.523412\n",
       "880        wow  12.0  4.731803   56.781634\n",
       "1        mouse  20.0  2.591737   51.834733\n",
       "877        jew  16.0  2.750801   44.012822\n",
       "252        kid  10.0  3.920873   39.208726"
      ]
     },
     "execution_count": 74,
     "metadata": {},
     "output_type": "execute_result"
    }
   ],
   "source": [
    "tf1['tfidf'] = tf1['tf'] * tf1['idf']\n",
    "tf1.sort_values(by='tfidf', ascending=False)[:10]"
   ]
  },
  {
   "cell_type": "markdown",
   "metadata": {},
   "source": [
    "It is worth noting that the *sklearn* library has the ability to directly calculate a TD-IDF matrix."
   ]
  },
  {
   "cell_type": "code",
   "execution_count": 75,
   "metadata": {},
   "outputs": [
    {
     "data": {
      "text/plain": [
       "<908x1000 sparse matrix of type '<class 'numpy.float64'>'\n",
       "\twith 117152 stored elements in Compressed Sparse Row format>"
      ]
     },
     "execution_count": 75,
     "metadata": {},
     "output_type": "execute_result"
    }
   ],
   "source": [
    "from sklearn.feature_extraction.text import TfidfVectorizer\n",
    "tfidf = TfidfVectorizer(max_features=1000, lowercase=True, analyzer='word',\n",
    " stop_words= 'english',ngram_range=(1,1))\n",
    "data_vect = tfidf.fit_transform(data['Story'])\n",
    "\n",
    "data_vect"
   ]
  },
  {
   "cell_type": "markdown",
   "metadata": {},
   "source": [
    "## [Bag of Words](https://en.wikipedia.org/wiki/Bag-of-words_model)"
   ]
  },
  {
   "cell_type": "markdown",
   "metadata": {},
   "source": [
    "[Bag of Words](https://en.wikipedia.org/wiki/Bag-of-words_model) a way to represent text based on the idea that similar texts will contain similar vocabulary. There is a lot to this model and we provide merely a simple implementation of it here."
   ]
  },
  {
   "cell_type": "code",
   "execution_count": 76,
   "metadata": {
    "scrolled": true
   },
   "outputs": [
    {
     "data": {
      "text/plain": [
       "<908x1000 sparse matrix of type '<class 'numpy.int64'>'\n",
       "\twith 135746 stored elements in Compressed Sparse Row format>"
      ]
     },
     "execution_count": 76,
     "metadata": {},
     "output_type": "execute_result"
    }
   ],
   "source": [
    "from sklearn.feature_extraction.text import CountVectorizer\n",
    "bow = CountVectorizer(max_features=1000, lowercase=True, ngram_range=(1,1),analyzer = \"word\")\n",
    "data_bow = bow.fit_transform(data['Story'])\n",
    "data_bow"
   ]
  },
  {
   "cell_type": "markdown",
   "metadata": {},
   "source": [
    "## Sentiment Analysis"
   ]
  },
  {
   "cell_type": "markdown",
   "metadata": {},
   "source": [
    "Sentiment is a way of measuring the overall positivity or negativity in a given text.\n",
    "\n",
    "To do this we will use the built in sentiment function in the *TextBlob* package. This function will return the polarity and subjectivity scores for each data chunk."
   ]
  },
  {
   "cell_type": "code",
   "execution_count": 77,
   "metadata": {},
   "outputs": [
    {
     "data": {
      "text/plain": [
       "0      (0.21925970534841502, 0.4762608806963645)\n",
       "1    (-0.023767006802721088, 0.4003401360544218)\n",
       "2      (0.21205513784461166, 0.5229620927318298)\n",
       "3      (0.11392783353010624, 0.5360229732388825)\n",
       "4     (0.06699011680143753, 0.43359389038634333)\n",
       "Name: Story, dtype: object"
      ]
     },
     "execution_count": 77,
     "metadata": {},
     "output_type": "execute_result"
    }
   ],
   "source": [
    "data['Story'][:5].apply(lambda x: TextBlob(x).sentiment)"
   ]
  },
  {
   "cell_type": "markdown",
   "metadata": {},
   "source": [
    "Focusing on the polarity score, we are able to see the overall sentiment of each data chunk. The closer to 1 the more positive and the closer to -1 the more negative."
   ]
  },
  {
   "cell_type": "code",
   "execution_count": 78,
   "metadata": {
    "scrolled": true
   },
   "outputs": [
    {
     "data": {
      "text/html": [
       "<div>\n",
       "<style scoped>\n",
       "    .dataframe tbody tr th:only-of-type {\n",
       "        vertical-align: middle;\n",
       "    }\n",
       "\n",
       "    .dataframe tbody tr th {\n",
       "        vertical-align: top;\n",
       "    }\n",
       "\n",
       "    .dataframe thead th {\n",
       "        text-align: right;\n",
       "    }\n",
       "</style>\n",
       "<table border=\"1\" class=\"dataframe\">\n",
       "  <thead>\n",
       "    <tr style=\"text-align: right;\">\n",
       "      <th></th>\n",
       "      <th>Story</th>\n",
       "      <th>sentiment</th>\n",
       "    </tr>\n",
       "  </thead>\n",
       "  <tbody>\n",
       "    <tr>\n",
       "      <th>0</th>\n",
       "      <td>cat made acquaintance mouse much great love fr...</td>\n",
       "      <td>0.219260</td>\n",
       "    </tr>\n",
       "    <tr>\n",
       "      <th>1</th>\n",
       "      <td>goat seven one fond ever mother child day go w...</td>\n",
       "      <td>-0.023767</td>\n",
       "    </tr>\n",
       "    <tr>\n",
       "      <th>2</th>\n",
       "      <td>upon time ill thought likely deathbed send tru...</td>\n",
       "      <td>0.212055</td>\n",
       "    </tr>\n",
       "    <tr>\n",
       "      <th>3</th>\n",
       "      <td>peasant driven cow fair sold seven thalers way...</td>\n",
       "      <td>0.113928</td>\n",
       "    </tr>\n",
       "    <tr>\n",
       "      <th>4</th>\n",
       "      <td>wonderful musician quite alone forest thought ...</td>\n",
       "      <td>0.066990</td>\n",
       "    </tr>\n",
       "  </tbody>\n",
       "</table>\n",
       "</div>"
      ],
      "text/plain": [
       "                                               Story  sentiment\n",
       "0  cat made acquaintance mouse much great love fr...   0.219260\n",
       "1  goat seven one fond ever mother child day go w...  -0.023767\n",
       "2  upon time ill thought likely deathbed send tru...   0.212055\n",
       "3  peasant driven cow fair sold seven thalers way...   0.113928\n",
       "4  wonderful musician quite alone forest thought ...   0.066990"
      ]
     },
     "execution_count": 78,
     "metadata": {},
     "output_type": "execute_result"
    }
   ],
   "source": [
    "data['sentiment'] = data['Story'].apply(lambda x: TextBlob(x).sentiment[0] )\n",
    "data[['Story','sentiment']].head()"
   ]
  },
  {
   "cell_type": "markdown",
   "metadata": {},
   "source": [
    "Here we have textted the sentiment scores for the first 10 chunks.\n",
    "\n",
    "Notice they tend to be positive but not exceedingly so."
   ]
  },
  {
   "cell_type": "code",
   "execution_count": 79,
   "metadata": {
    "scrolled": true
   },
   "outputs": [
    {
     "data": {
      "image/png": "[encoded data removed]",
      "text/plain": [
       "<Figure size 432x288 with 1 Axes>"
      ]
     },
     "metadata": {
      "needs_background": "light"
     },
     "output_type": "display_data"
    }
   ],
   "source": [
    "plot_1 = data[['sentiment']][:10].plot(kind='bar')"
   ]
  },
  {
   "cell_type": "markdown",
   "metadata": {},
   "source": [
    "Now we have sorted and textted all of the sentiment scores for the chunks in our database.\n",
    "\n",
    "We can clearly see that most of the text data is positive but not overwhelmingly so (as seen by the long tail of the distribution). However, the parts that are negative tend to be more polarized than the positive ones (a shorter tail and sharper peak)."
   ]
  },
  {
   "cell_type": "code",
   "execution_count": 80,
   "metadata": {},
   "outputs": [
    {
     "data": {
      "image/png": "[encoded data removed]",
      "text/plain": [
       "<Figure size 432x288 with 1 Axes>"
      ]
     },
     "metadata": {
      "needs_background": "light"
     },
     "output_type": "display_data"
    }
   ],
   "source": [
    "plot_2 = data[['sentiment']].sort_values(by='sentiment', ascending=False).plot(kind='bar')"
   ]
  },
  {
   "cell_type": "markdown",
   "metadata": {},
   "source": [
    "## Using TF-IDF and Machine Learning"
   ]
  },
  {
   "cell_type": "markdown",
   "metadata": {},
   "source": [
    "This is significantly more advanced than the rest of the tutorial. This takes the TF-IDF matrix and applies a [k-means clustering algorithm](https://en.wikipedia.org/wiki/K-means_clustering). This groups the texts into clusters of similar terms from the TF-IDF matrix. This algorithm randomly seeds X \"means\", the values are then clustered into the nearest mean. The centroid of the values in each cluster then becomes the new mean and the process repeats until a convergence is reached."
   ]
  },
  {
   "cell_type": "code",
   "execution_count": 81,
   "metadata": {},
   "outputs": [
    {
     "data": {
      "image/png": "[encoded data removed]",
      "text/plain": [
       "<Figure size 432x288 with 1 Axes>"
      ]
     },
     "metadata": {
      "needs_background": "light"
     },
     "output_type": "display_data"
    }
   ],
   "source": [
    "import matplotlib.pyplot as plt\n",
    "from sklearn.feature_extraction.text import TfidfVectorizer\n",
    "from sklearn.cluster import KMeans\n",
    "from sklearn.decomposition import PCA\n",
    "from sklearn.manifold import TSNE\n",
    "\n",
    "groups = 10\n",
    "\n",
    "num_clusters = groups\n",
    "num_seeds = groups\n",
    "max_iterations = 300\n",
    "labels_color_map = {\n",
    "    0: '#20b2aa', 1: '#ff7373', 2: '#ffe4e1', 3: '#005073', 4: '#4d0404',\n",
    "    5: '#ccc0ba', 6: '#4700f9', 7: '#f6f900', 8: '#00f91d', 9: '#da8c49'\n",
    "}\n",
    "pca_num_components = 2\n",
    "tsne_num_components = 2\n",
    "\n",
    "# calculate tf-idf of texts\n",
    "tfidf = TfidfVectorizer(max_features=1000, lowercase=True, analyzer='word',stop_words= 'english',ngram_range=(1,1))\n",
    "tf_idf_matrix = tfidf.fit_transform(data['Story'])\n",
    "\n",
    "# create k-means model with custom config\n",
    "clustering_model = KMeans(\n",
    "    n_clusters=num_clusters,\n",
    "    max_iter=max_iterations,\n",
    "    precompute_distances=\"auto\",\n",
    "    n_jobs=-1\n",
    ")\n",
    "\n",
    "labels = clustering_model.fit_predict(tf_idf_matrix)\n",
    "#print(labels)\n",
    "\n",
    "X = tf_idf_matrix.todense()\n",
    "\n",
    "# ----------------------------------------------------------------------------------------------------------------------\n",
    "\n",
    "reduced_data = PCA(n_components=pca_num_components).fit_transform(X)\n",
    "# print(reduced_data)\n",
    "\n",
    "import matplotlib.patches as mpatches\n",
    "legendlist=[mpatches.Patch(color=labels_color_map[key],label=str(key))for key in labels_color_map.keys()]\n",
    "\n",
    "fig, ax = plt.subplots()\n",
    "for index, instance in enumerate(reduced_data):\n",
    "    #print(instance, index, labels[index])\n",
    "    pca_comp_1, pca_comp_2 = reduced_data[index]\n",
    "    color = labels_color_map[labels[index]]\n",
    "    ax.scatter(pca_comp_1, pca_comp_2, c=color)\n",
    "plt.legend(handles=legendlist)\n",
    "plt.show()\n",
    "\n",
    "\n",
    "\n",
    "# t-SNE plot\n",
    "#embeddings = TSNE(n_components=tsne_num_components)\n",
    "#Y = embeddings.fit_transform(X)\n",
    "#plt.scatter(Y[:, 0], Y[:, 1], cmap=plt.cm.Spectral)\n",
    "#plt.show()\n"
   ]
  },
  {
   "cell_type": "code",
   "execution_count": 82,
   "metadata": {},
   "outputs": [],
   "source": [
    "tfidf_test = tf1.sort_values(by='tfidf', ascending=False)[:1000]"
   ]
  },
  {
   "cell_type": "code",
   "execution_count": 83,
   "metadata": {},
   "outputs": [],
   "source": [
    "title_groups = np.transpose([labels,data['Title'],data['Story Type']])"
   ]
  },
  {
   "cell_type": "markdown",
   "metadata": {},
   "source": [
    "These are the titles of the texts in each cluster. Keep in mind that each time you run the algorithm, the randomness in generating the initial means will result in different clusters."
   ]
  },
  {
   "cell_type": "code",
   "execution_count": 84,
   "metadata": {},
   "outputs": [],
   "source": [
    "for i in range(len(title_groups)):\n",
    "    data.loc[i,'Group'] = title_groups[i][0]"
   ]
  },
  {
   "cell_type": "code",
   "execution_count": 85,
   "metadata": {},
   "outputs": [
    {
     "name": "stdout",
     "output_type": "stream",
     "text": [
      "\n",
      "#### 0 ###\n",
      "\n",
      "The golden bird\n",
      "Gossip wolf and the fox\n",
      "The fox and the cat\n",
      "The fox and the geese\n",
      "The fox and the horse\n",
      "The Cat, the Rooster and the Fox\n",
      "The Animals in the Pit\n",
      "The Fox and the Crane\n",
      "The Fox as Herdsman\n",
      "Bear and Bruin\n",
      "Well Done and Ill Paid\n",
      "The Cock and Hen That Went to the Dovrefell\n",
      "The Golden Bird\n",
      "Snegurushka and the Fox\n",
      "Fox, Hare and Cock\n",
      "The Crow and the Fox\n",
      "The Eagle and the Fox \n",
      "The Fox and the Crow\n",
      "The Fox and the Grapes\n",
      "The Bear and the Fox\n",
      "The Ass, the Fox, and the Lion\n",
      "The Fox and the Goat\n",
      "The Fox Who Had Lost His Tail\n",
      "The Wild Boar and the Fox\n",
      "The Fox and the Woodcutter\n",
      "The Lion, the Bear, and the Fox\n",
      "The Fox and the Leopard\n",
      "The Crab and the Fox\n",
      "The Hares and the Foxes\n",
      "The Dog, the Cock, and the Fox\n",
      "The Lion, the Wolf, and the Fox\n",
      "The Jackdaw and the Fox\n",
      "The Fox and the Bramble\n",
      "The Ass in the Lion's Skin\n",
      "The Wolf and Fox, with the Ape for Judge\n",
      "The Fox and the Crow\n",
      "The Fox and the Stork\n",
      "The Fox and Eagle\n",
      "The Fox and the Tragic Mask\n",
      "The Fox and the Grapes\n",
      "The Fox and the Goat\n",
      "The Raven and the Fox \n",
      "The Fox and the Crow\n",
      "The Wolf and the Fox In the Well\n",
      "The Fox and the Young Turkeys\n",
      "The fox and the crow\n",
      "Lion Share\n",
      "The Willow-Wren and the Bear\n",
      "\n",
      "#### 1 ###\n",
      "\n",
      "The almond tree\n",
      "Jorinda and Joringel\n",
      "The moon\n",
      "Little Ida's flowers\n",
      "Thumbelina\n",
      "The Saucy Boy\n",
      "The travelling companion\n",
      "The goloshes of fortune\n",
      "The daisy\n",
      "The brave tin soldier\n",
      "The wild swans\n",
      "The elf of the rose\n",
      "The flying trunk\n",
      "The storks\n",
      "Ole-Luk-Oie, the Dream-God\n",
      "The buckwheat\n",
      "The angel\n",
      "The Nightingale\n",
      "Top and Ball\n",
      "The ugly duckling\n",
      "The fir tree\n",
      "The snow queen\n",
      "The elderbush\n",
      "The red shoes\n",
      "The jumper\n",
      "The shepherdess and the sweep\n",
      "Holger Danske\n",
      "The bell\n",
      "Grandmother\n",
      "The darning-needle\n",
      "The little match-seller\n",
      "By the almshouse window\n",
      "A picture from the ramparts\n",
      "The old street lamp\n",
      "The neighbouring families\n",
      "Little Tuk\n",
      "The old house\n",
      "The happy family\n",
      "The story of a mother\n",
      "The flax\n",
      "There is a difference\n",
      "The loveliest rose in the world\n",
      "In a thousand years\n",
      "The old grave-stone\n",
      "The story of the year\n",
      "On judgment day\n",
      "A cheerful temper\n",
      "Heartache\n",
      "Everything in its proper place\n",
      "The goblin and the huckster\n",
      "Under the willow tree\n",
      "Five peas from a pod\n",
      "She was good for nothing\n",
      "The last pearl\n",
      "At the uttermost parts of the sea\n",
      "The moneybox\n",
      "A leaf from heaven\n",
      "Ib and little Christina\n",
      "The thorny road of honor\n",
      "The Jewish girl\n",
      "A string of pearls\n",
      "The bell deep\n",
      "The bottle neck\n",
      "Soup from a sausage skewer\n",
      "The old bachelor's nightcap\n",
      "Something\n",
      "The last dream of the old oak\n",
      "The A-B-C book\n",
      "The marsh king's daughter\n",
      "The stone of the wise man\n",
      "The wind tells about Valdemar Daae and his daughters\n",
      "The girl who trod on the loaf\n",
      "Ole the tower-keeper\n",
      "Two brothers\n",
      "The butterfly\n",
      "Twelve by the mail\n",
      "The beetle\n",
      "The snowman\n",
      "The snail and the rosebush\n",
      "The old church bell\n",
      "The silver shilling\n",
      "The metal pig\n",
      "The bond of friendship\n",
      "A rose from Homer's grave\n",
      "A story\n",
      "The Dumb Book\n",
      "The snowdrop\n",
      "The teapot\n",
      "The bird of folklore\n",
      "The windmill\n",
      "Kept secret but not forgotten\n",
      "Aunty\n",
      "The toad\n",
      "Vänö and Glänö\n",
      "The little green ones\n",
      "The goblin and the woman\n",
      "Peiter, Peter, and Peer\n",
      "Which was the happiest?\n",
      "The puppet-show man\n",
      "The comet\n",
      "Sunshine stories\n",
      "Chicken Grethe's family\n",
      "What happened to the thistle\n",
      "What one can invent\n",
      "Luck may lie in a pin\n",
      "What the whole family said\n",
      "Great-Grandfather\n",
      "The most incredible thing\n",
      "The great sea serpent\n",
      "The gardener and the noble family\n",
      "What old Johanne told\n",
      "The cripple\n",
      "Aunty Toothache\n",
      "The Bird of Truth\n",
      "Cuội and the Moon\n",
      "\n",
      "#### 2 ###\n",
      "\n",
      "Straw, coal, and bean\n",
      "The Valiant Little Tailor\n",
      "The Bremen town musicians\n",
      "Clever Hans\n",
      "Herr Korbes\n",
      "The Dog and the Sparrow\n",
      "Clever Grethel\n",
      "The death of the little hen\n",
      "Gambling Hansel\n",
      "Old Hildebrand\n",
      "Sweet Porridge\n",
      "Knoist and his three sons\n",
      "The old man made young again\n",
      "The old beggar-woman\n",
      "Brides on their trial\n",
      "A riddling tale\n",
      "The peasant in heaven\n",
      "Sharing joy and sorrow\n",
      "The hare and the hedgehog\n",
      "The crumbs on the table\n",
      "The golden key\n",
      "Little Claus and big Claus\n",
      "The emperor's new suit\n",
      "The shadow\n",
      "The drop of water\n",
      "The shirt-collar\n",
      "The swan's nest\n",
      "There is no doubt about it\n",
      "Two maidens\n",
      "The races\n",
      "The farm-yard cock and the weather-cock\n",
      "In the duck yard\n",
      "The days of the week\n",
      "The rags\n",
      "The candles\n",
      "Dance, dance, doll of mine!\n",
      "The gate key\n",
      "The Tallow Candle\n",
      "The Animals' Winter Home\n",
      "The Tale of Ruff Ruffson, Son of Bristle\n",
      "The Greedy Old Woman\n",
      "Emelya and the Pike\n",
      "Good But Bad\n",
      "The Cock and Hen\n",
      "One's Own Children Are Always Prettiest\n",
      "The Cock, the Cuckoo, and the Blackcock\n",
      "Gertrude's Bird\n",
      "The Cock and Hen a-Nutting\n",
      "The Box With Something Pretty In It\n",
      "The Priest And The Clerk\n",
      "The Way Of The World\n",
      "Reynard And Chanticleer\n",
      "The Hare And The Heiress\n",
      "Choosing a Bride\n",
      "Golden Fish\n",
      "Tale of the fisherman and the little fish\n",
      "The Frog and Ox\n",
      "Two bulls and the frog\n",
      "Anansi in hunger\n",
      "The Frog and the Ox\n",
      "The Cat and the Fox\n",
      "The Two Mules\n",
      "The Tortoise and the Eagle\n",
      "The Boy Bathing\n",
      "The Ass and the Grasshopper \n",
      "The Charcoal-Burner and the Fuller\n",
      "The Boy Hunting Locusts\n",
      "The Fisherman Piping\n",
      "The Ants and the Grasshopper\n",
      "The Dog and the Shadow\n",
      "The Mole and His Mother\n",
      "The Herdsman and the Lost Bull\n",
      "The Pomegranate, Apple-Tree, and Bramble\n",
      "The Farmer and the Stork\n",
      "The Fawn and His Mother\n",
      "The Swallow and the Crow\n",
      "The Flies and the Honey-Pot\n",
      "The Bear and the Two Travelers\n",
      "The Oxen and the Axle-Trees\n",
      "The Thirsty Pigeon\n",
      "The Miser\n",
      "The Horse and Groom\n",
      "The Ass and the Lapdog\n",
      "The Piglet, the Sheep, and the Goat\n",
      "The Ass and the Mule\n",
      "The Salt Merchant and His Ass\n",
      "The Vain Jackdaw\n",
      "The Mischievous Dog\n",
      "The Man and His Two Sweethearts\n",
      "The Astronomer\n",
      "The Charger and the Miller\n",
      "The Horse and His Rider\n",
      "The Belly and the Members\n",
      "The Vine and the Goat\n",
      "The Widow and Her Little Maidens\n",
      "The Father and His Two Daughters\n",
      "The Farmer and His Sons\n",
      "The Crab and Its Mother\n",
      "The Heifer and the Ox\n",
      "The Swallow, the Serpent, and the Court of Justice\n",
      "The Thief and His Mother\n",
      "The Old Man and Death\n",
      "The Fir-Tree and the Bramble\n",
      "The Man Bitten by a Dog\n",
      "The Two Pots\n",
      "The Aethiop\n",
      "The Fisherman and His Nets\n",
      "The Two Dogs\n",
      "The Widow and the Sheep\n",
      "The Eagle and the Arrow\n",
      "The Sick Kite\n",
      "The One-Eyed Doe\n",
      "The Shepherd and the Sea\n",
      "The Master and His Dogs\n",
      "The Ass Carrying the Image\n",
      "The Two Travelers and the Axe\n",
      "The Bee and Jupiter\n",
      "The Seaside Travelers\n",
      "The Brazier and His Dog\n",
      "The Ass and His Masters\n",
      "The Oak and the Reeds\n",
      "The Fisherman and the Little Fish\n",
      "Mercury and the Sculptor\n",
      "The Monkey and the Fishermen\n",
      "The Flea and the Wrestler\n",
      "The Two Frogs\n",
      "The Seagull and the Kite\n",
      "The Peasant and the Eagle\n",
      "The Image of Mercury and the Carpenter\n",
      "The Monkeys and Their Mother\n",
      "The Oaks and Jupiter\n",
      "The Traveler and Fortune\n",
      "The Bald Knight\n",
      "The Lamp\n",
      "The Hen and the Golden Eggs\n",
      "The Ass and the Frogs\n",
      "The Crow and the Raven\n",
      "The Woman and Her Hen\n",
      "The Kites and the Swans\n",
      "The Camel\n",
      "The Wasp and the Snake\n",
      "The Dog and the Hare\n",
      "The Peacock and the Crane\n",
      "The Mule\n",
      "The Hart and the Vine\n",
      "The Two Frogs\n",
      "The Walnut-Tree\n",
      "The Monkey and the Dolphin\n",
      "The Jackdaw and the Doves\n",
      "The Horse and the Stag\n",
      "The Prophet\n",
      "The Goat and the Ass\n",
      "The Fishermen\n",
      "The Fowler and the Viper\n",
      "The Geese and the Cranes\n",
      "The Wasps, the Partridges, and the Farmer\n",
      "The North Wind and the Sun\n",
      "The Two Men Who Were Enemies\n",
      "The Gamecocks and the Partridge\n",
      "The Spendthrift and the Swallow\n",
      "The Trumpeter Taken Prisoner\n",
      "The Flea and the Ox\n",
      "The Dove and the Crow\n",
      "Mercury and the Workmen\n",
      "The Man and the Satyr\n",
      "The Ass and His Purchaser\n",
      "The Two Bags\n",
      "The Gnat and the Bull\n",
      "The Dogs and the Hides\n",
      "The Shepherd and the Sheep\n",
      "The Monkey and the Camel\n",
      "The Peasant and the Apple-Tree\n",
      "The Hen and the Swallow\n",
      "The Crow and the Serpent\n",
      "The Dog and the Oyster\n",
      "The Ant and the Dove\n",
      "The Partridge and the Fowler\n",
      "The Flea and the Man\n",
      "The Thieves and the Cock\n",
      "The Dog and the Cook\n",
      "The Travelers and the Plane-Tree\n",
      "The Hares and the Frogs\n",
      "The Rich Man and the Tanner\n",
      "The Shipwrecked Man and the Sea\n",
      "The Camel and Jupiter\n",
      "The Ass and the Charger\n",
      "The Ass and His Driver\n",
      "The Thrush and the Fowler\n",
      "The Rose and the Amaranth\n",
      "The Frogs' Complaint Against the Sun\n",
      "The Steward of Skalholt.\n",
      "The Mirror of Truth\n",
      "The Two Travellers\n",
      "The Inquisitive Cat\n",
      "The Carp and her Young\n",
      "The Two Gardeners\n",
      "The Frog and the Rat\n",
      "The Stag at the Fountain\n",
      "The Cobbler Turned Doctor\n",
      "The Sapient Ass\n",
      "The Bitch and Her Puppies\n",
      "The Frogs Desiring a King\n",
      "The Hungry Dogs\n",
      "The Faithful House-dog\n",
      "The Proud Frog\n",
      "The Dog and the Crocodile\n",
      "The Dog, Treasure, and Vulture\n",
      "The Kite and the Doves\n",
      "The Dog in the River\n",
      "The Frogs and Sun\n",
      "The Bald-pate Dupe\n",
      "The Man and the Dog\n",
      "The Old Woman and Empty Cask\n",
      "Of Doubt and Credulity\n",
      "The Bees and the Drone\n",
      "The Dog and the Lamb\n",
      "The Owl and the Grasshopper\n",
      "The Trees Protected\n",
      "Juno and the Peacock\n",
      "Esop and the Importunate Fellow\n",
      "The Panther and Shepherds\n",
      "The Ape's Head\n",
      "Esop and the Insolent Fellow\n",
      "The Fly and the Mule\n",
      "The Ass and Priests of Cybele\n",
      "The Two Bags\n",
      "The Sacrilegious Thief\n",
      "Hercules and Plutus\n",
      "The He-goats and She-goats\n",
      "The Man and the Adder\n",
      "The Shipwreck of Simonides\n",
      "The Escape of Simonides\n",
      "The Horse and Boar\n",
      "Esop and the Will\n",
      "The Viper and the File\n",
      "Demetrius and Menander\n",
      "The Old Dog and the Huntsman\n",
      "The Man and the Ass\n",
      "The Two Bald Men\n",
      "Opportunity\n",
      "The Stag and the Oxen\n",
      "The Man and the Dog\n",
      "A Saying of Socrates\n",
      "The Swan, The Pike and the Crayfish \n",
      "The Ant\n",
      "Elephant And Pug\n",
      "The Frogs and the Fighting Bulls\n",
      "The ant and the Grasshopper\n",
      "A Hog under an Oak\n",
      "Dragonfly and the Ant\n",
      "The Grasshopper and the Ant\n",
      "The Rat and the Elephant\n",
      "The Hare and the Partridge\n",
      "The Man and his Image\n",
      "The Unhappily Married Man\n",
      "The Rat Retired From the World\n",
      "The Maiden\n",
      "The Wishes\n",
      "The Dairy-woman and the Pail of Milk\n",
      "The Priest and the Corpse\n",
      "The Man Who Ran After Fortune and The Man Who Waited For her In his Bed\n",
      "The Cobbler and the Financier\n",
      "The Power of Fable\n",
      "The Dog Who Carried his Master's Dinner\n",
      "Thyrsis and Amaranth\n",
      "Education\n",
      "Democritus and the People of Abdera\n",
      "The Acorn and the Pumpkin\n",
      "The Schoolboy, the Pedant, and the Owner of a Garden\n",
      "The Sculptor and the Statue of Jupiter\n",
      "The Oyster and the Pleaders\n",
      "The Monkey and the Cat\n",
      "The Two Rats, the Fox, and the Egg\n",
      "The Dog With his Ears Cropped\n",
      "The Rabbits\n",
      "The Gods Wishing To Instruct a Son of Jupiter\n",
      "The Lion, the Monkey, and the Two Asses\n",
      "Love and Folly\n",
      "The Forest and the Woodcutter\n",
      "The Ape\n",
      "The Scythian Philosopher\n",
      "The Elephant and Jupiter's Ape\n",
      "The Arbiter, the Hospitaller, and the Hermit\n",
      "The Goose that Laid the Golden Egg\n",
      "The Man and the Adder\n",
      "The Dog and the Cheese\n",
      "The Rooster and the Gem\n",
      "The Eagle and the Jackdaw\n",
      "The Fly and the Bee\n",
      "The Spider and the Turtle\n",
      "The Crow and the Peacock\n",
      "The Man and the Viper\n",
      "The Hawk and the Nightingale\n",
      "The old man, the boy and the donkey\n",
      "The Turtoise and the Geese\n",
      "The Appointment in Samarra\n",
      "When Death Came to Baghdad\n",
      "The Linguist and the Dervish\n",
      "The Altercation between Spring and Summer \n",
      "The Friendship of the Thorn and the Mud-Fish \n",
      "The Black Monkey and the Turtoise\n",
      "Copa Nanzi and the Cow\n",
      "The Bull, the Tup, the Cock, and the Steg\n",
      "The Town Rat and the Country Rat\n",
      "How Hare Scared Elephant \n",
      "The Ass and the Flute\n",
      "The Two Flies and the Bee\n",
      "\n",
      "#### 3 ###\n",
      "\n",
      "The good bargain\n",
      "The twelve brothers\n",
      "The three snake-leaves\n",
      "The Louse and the Flea\n",
      "The girl without hands\n",
      "The three languages\n",
      "The tailor in heaven\n",
      "The Wishing-Table, the Gold-Ass, and the Cudgel in the Sack\n",
      "Frau Trude\n",
      "Bird-foundling\n",
      "The knapsack, the hat, and the horn\n",
      "The two brothers\n",
      "All-kinds-of-fur\n",
      "The twelve huntsmen\n",
      "Brother Lustig\n",
      "The singing, springing lark\n",
      "The young giant\n",
      "The king of the golden mountain\n",
      "The raven\n",
      "The three little birds\n",
      "Bearskin\n",
      "The two travellers\n",
      "The skilful huntsman\n",
      "The blue light\n",
      "The old woman in the wood\n",
      "Ferdinand the faithful\n",
      "The iron stove\n",
      "The six servants\n",
      "The white bride and the black one\n",
      "Iron John\n",
      "Domestic servants\n",
      "Going a-travelling\n",
      "The donkey\n",
      "The turnip\n",
      "The sparrow and his four children\n",
      "Lean Lisa\n",
      "The duration of life\n",
      "The goose-girl at the well\n",
      "The nix of the mill-pond\n",
      "The giant and the tailor\n",
      "The poor boy in the grave\n",
      "The true bride\n",
      "The peasant and the devil\n",
      "The sea-hare\n",
      "The master-thief\n",
      "The drummer\n",
      "The grave-mound\n",
      "The crystal ball\n",
      "Maid Maleen\n",
      "The boots of buffalo-leather\n",
      "The three green twigs\n",
      "The Phoenix bird\n",
      "The Sevens Bits of Bacon-Rind\n",
      "The Frog-King, or Iron Henry\n",
      "Our Lady's Child\n",
      "The Story of the Youth who Went Forth to Learn What Fear Was\n",
      "The Crow and Mercury\n",
      "Truth and the Traveler\n",
      "Faithful John\n",
      "The Cock and the Pearl\n",
      "Esop Playing\n",
      "The Bald Man and the Fly\n",
      "The Bull and the Calf\n",
      "Maol a chliobain\n",
      "Asphurtzela\n",
      "\n",
      "#### 4 ###\n",
      "\n",
      "Cat and mouse in partnership\n",
      "The Mouse, the Bird, and the Sausage\n",
      "The Bat and the Weasels \n",
      "The Lion and the Mouse\n",
      "The Lioness\n",
      "The Lion, the Mouse, and the Fox\n",
      "The Mouse, the Frog, and the Hawk\n",
      "The Wild Ass and the Lion\n",
      "The Lion and the Dolphin\n",
      "The Lion and the Boar\n",
      "The Ass, the Cock, and the Lion\n",
      "The Mice and the Weasels\n",
      "The Lion in a Farmyard\n",
      "The Doe and the Lion\n",
      "The Lion and the Hare\n",
      "The Bull and the Goat\n",
      "The Lion, the Fox, and the Ass\n",
      "The Gnat and the Lion\n",
      "The Lion and the Bull\n",
      "The Wolf and the Lion\n",
      "The Manslayer\n",
      "The Cat and Venus\n",
      "The Lion, Jupiter, and the Elephant\n",
      "The Viper and the File\n",
      "The King's Son and the Painted Lion\n",
      "The Ant and the Snow\n",
      "The Ass and the Lion Hunting\n",
      "The Old Lion\n",
      "The Man and the Weasel\n",
      "The Judicious Lion\n",
      "Mustela et Mus\n",
      "The Mountain in Labor\n",
      "The Battle of the Mice and Weasels\n",
      "Mustela et Mus\n",
      "The Horoscope\n",
      "The League of Rats\n",
      "The Lion and the Mouse\n",
      "The Lion and the Mouse\n",
      "The Lion and the Three Bulls\n",
      "The Lion and the Shepherd\n",
      "The Lion, the Panther, the Tazourit, and the Jackal\n",
      "The City Mouse and the Country Mouse\n",
      "The Cow, the Goat, the Sheep, and the Lion\n",
      "The Mouse\n",
      "\n",
      "#### 5 ###\n",
      "\n",
      "Cinderella\n",
      "Sleeping Beauty (Little Briar Rose)\n",
      "The goose girl\n",
      "The water of life\n",
      "The shoes that were danced to pieces\n",
      "The princess and the pea\n",
      "The little mermaid\n",
      "The garden of paradise\n",
      "The wicked prince\n",
      "The swineherd\n",
      "The flea and the professor\n",
      "Alyosha Popovich\n",
      "The White Duck\n",
      "East o' the Sun and West o' the Moon\n",
      "Hacon Grizzlebeard\n",
      "The Twelve Wild Ducks\n",
      "The Giant Who Had No Heart in His Body\n",
      "The Mastermaid\n",
      "The Lassie and Her Godmother\n",
      "The Three Aunts\n",
      "Tatterhood\n",
      "Katie Woodencloak\n",
      "The Big Bird Dan\n",
      "Little Annie the Goose-Girl\n",
      "The Sleeping Beauty in the Wood\n",
      "The Myrtle\n",
      "Cenerentola\n",
      "Cinderella; or, The Little Glass Slipper\n",
      "Ricky of the Tuft\n",
      "The Three Sisters\n",
      "Violet\n",
      "The She-Bear\n",
      "The Dove\n",
      "The Dragon\n",
      "Nennillo and Nennella\n",
      "The Three Citrons\n",
      "The Morning Star And The Evening Star\n",
      "Youth Without Age And Life Without Death\n",
      "The Blue Bird\n",
      "Tale of the dead princessand the seven knights\n",
      "Snow-White-Fire-Red\n",
      "Asmund and Signy\n",
      "Geirlug the King's Daughter\n",
      "The Witch in the Stone Boat\n",
      "Gesture of Death\n",
      "Prince Hyacinth and the Dear Little Princess\n",
      "East of the Sun and West of the Moon\n",
      "The Yellow Dwarf\n",
      "The Master-Maid\n",
      "The White Cat\n",
      "Felicia and the Pot of Pinks\n",
      "The Wonderful Sheep\n",
      "The Story of Pretty Goldilocks\n",
      "The Goose-Girl\n",
      "Princess Rosette\n",
      "The Little Good Mouse\n",
      "The Golden Branch\n",
      "The gardiner and Death\n",
      "\n",
      "#### 6 ###\n",
      "\n",
      "Trusty John\n",
      "Rapunzel\n",
      "Hansel and Gretel\n",
      "The white snake\n",
      "The fisherman and his wife\n",
      "The riddle\n",
      "Mother Hulda\n",
      "The seven ravens\n",
      "The singing bone\n",
      "The devil with the three golden hairs\n",
      "Clever Else\n",
      "The Elves\n",
      "The robber bridegroom\n",
      "The godfather\n",
      "Godfather Death\n",
      "The six swans\n",
      "King Thrushbeard\n",
      "Rumpelstiltskin\n",
      "Roland\n",
      "Frederick and Catherine\n",
      "The little peasant\n",
      "The queen bee\n",
      "The three feathers\n",
      "The golden goose\n",
      "The thief and his master\n",
      "The three children of fortune\n",
      "Six soldiers of fortune\n",
      "Hans in luck\n",
      "Hans married\n",
      "The gold-children\n",
      "The poor man and the rich man\n",
      "The gnome\n",
      "Doctor Know-all\n",
      "The spirit in the glass bottle\n",
      "Hans my Hedgehog\n",
      "The seven Swabians\n",
      "Donkey cabbages\n",
      "The three brothers\n",
      "The devil and his grandmother\n",
      "The four skilful brothers\n",
      "One-eye, two-eyes, and three-eyes\n",
      "Fair Katrinelje and Pif-Paf-Poltrie\n",
      "The three black princesses\n",
      "Simeli mountain\n",
      "The ungrateful son\n",
      "Odds and ends\n",
      "The tale of Cockaigne\n",
      "Snow-White and Rose-Red\n",
      "The glass coffin\n",
      "Lazy Harry\n",
      "The griffin\n",
      "Strong Hans\n",
      "The owl\n",
      "The nail\n",
      "Old Rinkrank\n",
      "Poverty and humility lead to heaven\n",
      "The tinder-box\n",
      "The elfin hill\n",
      "Clumsy Hans\n",
      "What the old man does is always right\n",
      "Baba Yaga\n",
      "Baba-Yaga and Puny\n",
      "The Swan-Geese\n",
      "Evening, Midnight and Dawn\n",
      "The Fire-Bird and Princess Vassilissa\n",
      "The Horse, the Table-Cloth and the Horn\n",
      "Go I Know Not Where, Bring I Know Not What\n",
      "Fenist the Falcon\n",
      "Elena the Wise\n",
      "The Mountain of Gold\n",
      "A Cunning Trade\n",
      "The Riddle\n",
      "The Wise Maid and the Seven Robbers\n",
      "The Fortune-Teller\n",
      "Ivan the Fool\n",
      "The Miser\n",
      "Vasilisa the Beautiful\n",
      "The Two Step-Sisters\n",
      "The Green Knight\n",
      "The Sweetheart In The Wood\n",
      "The Father Of The Family\n",
      "Blue Beard\n",
      "The Master Cat; or, Puss in Boots\n",
      "The Fairies\n",
      "Little Thumb\n",
      "Sun, Moon, and Talia\n",
      "Vardiello\n",
      "The Seven Doves\n",
      "Peruonto\n",
      "The Flea\n",
      "The Merchant\n",
      "Goat-Face\n",
      "The Enchanted Doe\n",
      "Parsley\n",
      "Pippo\n",
      "Canntella\n",
      "Corvetto\n",
      "The Booby\n",
      "The Stone in the Cock's Head\n",
      "The Three Enchanted Princes\n",
      "The Two Cakes\n",
      "The Raven\n",
      "The Months\n",
      "Pintosmalto\n",
      "The Golden Root\n",
      "Baldak Borisevich\n",
      "The Fool and the Birch Tree\n",
      "The Magic Ring\n",
      "Daughter and Stepdaughter\n",
      "The Golden Horseshoe the Golden Feather and the Golden Hair\n",
      "Godmother Death and the Doctor Who Worked Miracles\n",
      "Three Coppers\n",
      "The Princess Bella-Flor\n",
      "The Knights of the Fish\n",
      "The Maiden and the Beast\n",
      "Little Snow White\n",
      "The Young Slave\n",
      "The Hearth-Cat\n",
      "The Fire-blower\n",
      "The Tartaro\n",
      "Tartaro and Petit Perroquet\n",
      "Basa Jauna, the Wild Man\n",
      "The Baker's Apprentice\n",
      "Don Firriulieddu\n",
      "The Old Woman and the Physician\n",
      "The Man and His Wife\n",
      "The Stepmother\n",
      "The King of Love\n",
      "The dancing water, the singing apple, and the speaking bird\n",
      "The Cistern\n",
      "Thirteenth\n",
      "Water and Salt\n",
      "The Cottager and his Cat\n",
      "Litill, Tritill, the Birds and the Peasant Lad\n",
      "The Brother and Sister\n",
      "The Piper and the Puca\n",
      "The Cobbler and His Three Daughters\n",
      "The Enchanted Shoes\n",
      "Bash-Chalek; Or, True Steel\n",
      "The Gardener and his Landlord\n",
      "The Fortune-tellers\n",
      "The Fiddler in Hell\n",
      "Rumpelstiltzkin\n",
      "Toads and Diamonds\n",
      "The Princess on the Glass Hill\n",
      "The Nyamatsanes\n",
      "The Knights of Fish\n",
      "The Rooster and the Hyena\n",
      "The Robbers and the Farm Animals\n",
      "The story of the selfish husband\n",
      "The young man and the monitor lizard\n",
      "The Story of the Steward\n",
      "The Blue Lily\n",
      "\n",
      "#### 7 ###\n",
      "\n",
      "Shabarsha\n",
      "Don't Listen, If You Don't Like\n",
      "True and Untrue\n",
      "Why the Sea Is Salt\n",
      "The Old Dame and Her Hen\n",
      "Boots Who Ate a Match With the Troll\n",
      "Boots Who Made the Princess Say, That's A Story\n",
      "The Cat on the Dovrefell\n",
      "Princess on the Glass Hill\n",
      "How One Went Out to Woo\n",
      "The Master-Smith\n",
      "Buttercup\n",
      "Taming the Shrew\n",
      "Shortshanks\n",
      "Gudbrand on the Hill-side\n",
      "The Blue Belt\n",
      "Not a Pin to Choose Between Them\n",
      "The Three Princesses of Whiteland\n",
      "Rich Peter the Pedlar\n",
      "Boots and the Troll\n",
      "Goosey Grizzel\n",
      "The Lad Who Went to the North Wind\n",
      "The Master Thief\n",
      "The Best Wish\n",
      "The Three Billy-Goats Gruff\n",
      "The Husband Who Was to Mind the House\n",
      "Dapplegrim\n",
      "Farmer Weathersky\n",
      "Lord Peter \n",
      "The Seven Foals\n",
      "The Widow's Son\n",
      "Bushy Bride\n",
      "Boots and His Brothers\n",
      "Big Peter and Little Peter \n",
      "Thumbikin\n",
      "Doll i' the Grass\n",
      "The Lad and the Deil\n",
      "Soria Moria Castle\n",
      "Tom Totherhouse\n",
      "King Valemon, The White Bear\n",
      "The Golden Palace That Hung In The Air\n",
      "The Trolls In Hedale Wood\n",
      "Goody Gainst-the-stream\n",
      "Boots And His Crew\n",
      "Master Tobacco\n",
      "The Pancake\n",
      "The Three Lemons\n",
      "Friends In Life And Death\n",
      "The Charcoal-burner\n",
      "The Companion\n",
      "Goodman Axehaft\n",
      "The Honest Penny\n",
      "Silly Men And Cunning Wives\n",
      "Our Parish Clerk\n",
      "The Three Years Without Wages\n",
      "Silly Matt\n",
      "The Town-mouse And The Fell-mouse\n",
      "Little Freddy With His Fiddle\n",
      "The Sheep And The Pig Who Set Up House\n",
      "The Skipper And Old Nick\n",
      "Peik\n",
      "Rumble-Mumble Goose-Egg\n",
      "The Squire's Bride\n",
      "Osborn's Pipe\n",
      "The Storehouse Key in the Disdaff\n",
      "The Cock Who Fell into the Brewing Vat\n",
      "Why the Sea is Salt\n",
      "\n",
      "#### 8 ###\n",
      "\n",
      "The Wolf and the Seven Young Kids\n",
      "The Wonderful Musician\n",
      "Little Red Riding Hood\n",
      "Old Sultan\n",
      "The wolf and the man\n",
      "The wolf and the fox\n",
      "The Wolf and the Goat\n",
      "Nanny Who Wouldn't Go Home to Supper\n",
      "Little Red Riding Hood\n",
      "Liza the Fox and Catafay the Cat\n",
      "The Ass and the Wolf\n",
      "Acheria, the Fox\n",
      "The Wolf and the Lamb\n",
      "The Ass and the Wolf\n",
      "The Wolf and the Lamb\n",
      "The Kingdom of the Lion\n",
      "The Wolf and the Crane\n",
      "The Wolves and the Sheep\n",
      "The Shepherd and the Wolf\n",
      "The Wolf and the Sheep\n",
      "The Wolf and the Housedog\n",
      "The Shepherd and the Dog\n",
      "The Wolves and the Sheepdogs\n",
      "The Kid and the Wolf\n",
      "The Wolf and the Shepherd\n",
      "The Wolf and the Goat\n",
      "The Blind Man and the Whelp\n",
      "The Wolf and the Horse\n",
      "The Mother and the Wolf\n",
      "The Wolf and the Lion\n",
      "The Lamb and the Wolf\n",
      "The Shepherd's Boy and the Wolf\n",
      "The Wonderful Musician\n",
      "The Wolf and the Lamb\n",
      "The Sheep, the Stag, and the Wolf\n",
      "The Sheep, the Dog, and the Wolf\n",
      "The Wolf and Crane\n",
      "The Dog and the Wolf\n",
      "The Animals Sick of the Plague\n",
      "The Companions of Ulysses\n",
      "The Wolf and the Fox\n",
      "The Lion, Wolf, and Fox\n",
      "\n",
      "#### 9 ###\n",
      "\n",
      "Right and Wrong\n",
      "Prince Ivan and Princess Martha\n",
      "The Three Kingdoms\n",
      "Marya Morevna\n",
      "King Ivan and Bely, the Warrior of the Plains\n",
      "The King of the Sea and Vassilissa the Wise\n",
      "The Prophetic Dream\n",
      "Tsarevich Ivan and Grey Wolf\n",
      "The Princess Frog\n"
     ]
    }
   ],
   "source": [
    "for i in range(groups):\n",
    "    print(\"\")\n",
    "    print(\"#### {} ###\".format(i))\n",
    "    print(\"\")\n",
    "    for el in title_groups:\n",
    "        if el[0]==i:\n",
    "            print(\"{}\".format(el[1]))"
   ]
  },
  {
   "cell_type": "markdown",
   "metadata": {},
   "source": [
    "Now, we are going to make a word cloud based on our data set!"
   ]
  },
  {
   "cell_type": "code",
   "execution_count": 86,
   "metadata": {},
   "outputs": [
    {
     "ename": "ModuleNotFoundError",
     "evalue": "No module named 'wordcloud'",
     "output_type": "error",
     "traceback": [
      "\u001b[0;31m---------------------------------------------------------------------------\u001b[0m",
      "\u001b[0;31mModuleNotFoundError\u001b[0m                       Traceback (most recent call last)",
      "\u001b[0;32m<ipython-input-86-ed0e8a69dda2>\u001b[0m in \u001b[0;36m<module>\u001b[0;34m\u001b[0m\n\u001b[0;32m----> 1\u001b[0;31m \u001b[0;32mfrom\u001b[0m \u001b[0mwordcloud\u001b[0m \u001b[0;32mimport\u001b[0m \u001b[0mWordCloud\u001b[0m\u001b[0;34m,\u001b[0m \u001b[0mSTOPWORDS\u001b[0m\u001b[0;34m,\u001b[0m \u001b[0mImageColorGenerator\u001b[0m\u001b[0;34m\u001b[0m\u001b[0;34m\u001b[0m\u001b[0m\n\u001b[0m\u001b[1;32m      2\u001b[0m \u001b[0mstop_words\u001b[0m \u001b[0;34m=\u001b[0m \u001b[0mset\u001b[0m\u001b[0;34m(\u001b[0m\u001b[0mSTOPWORDS\u001b[0m\u001b[0;34m)\u001b[0m\u001b[0;34m\u001b[0m\u001b[0;34m\u001b[0m\u001b[0m\n\u001b[1;32m      3\u001b[0m \u001b[0;31m#stopwords.update([\"\"])\u001b[0m\u001b[0;34m\u001b[0m\u001b[0;34m\u001b[0m\u001b[0;34m\u001b[0m\u001b[0m\n",
      "\u001b[0;31mModuleNotFoundError\u001b[0m: No module named 'wordcloud'"
     ]
    }
   ],
   "source": [
    "from wordcloud import WordCloud, STOPWORDS, ImageColorGenerator\n",
    "stop_words = set(STOPWORDS)\n",
    "#stopwords.update([\"\"])"
   ]
  },
  {
   "cell_type": "markdown",
   "metadata": {},
   "source": [
    "If you want to update the stopwords after you see the wordcloud, type them into the empty list above and remove the # sign."
   ]
  },
  {
   "cell_type": "code",
   "execution_count": null,
   "metadata": {},
   "outputs": [],
   "source": [
    "word = \" \".join(data['Story'])\n",
    "wordcloud = WordCloud(stopwords=stop, background_color=\"white\").generate(word)\n",
    "plt.imshow(wordcloud, interpolation='bilinear')\n",
    "plt.axis(\"off\")\n",
    "plt.show()"
   ]
  },
  {
   "cell_type": "markdown",
   "metadata": {},
   "source": [
    "The above code creates a wordcloud based off all the words (except for stop words) in all of the stories. While this can be fun, it may not be as interesting as a wordcloud for a single story. Let's compare:"
   ]
  },
  {
   "cell_type": "code",
   "execution_count": null,
   "metadata": {},
   "outputs": [],
   "source": [
    "for i in range(0, 5):\n",
    "    word = data['Story'][i]\n",
    "    wordcloud = WordCloud(stopwords=stop, background_color=\"white\").generate(word)\n",
    "    plt.imshow(wordcloud, interpolation='bilinear')\n",
    "    plt.axis(\"off\")\n",
    "    plt.show()"
   ]
  },
  {
   "cell_type": "markdown",
   "metadata": {},
   "source": []
  }
 ],
 "metadata": {
  "kernelspec": {
   "display_name": "Python 3",
   "language": "python",
   "name": "python3"
  },
  "language_info": {
   "codemirror_mode": {
    "name": "ipython",
    "version": 3
   },
   "file_extension": ".py",
   "mimetype": "text/x-python",
   "name": "python",
   "nbconvert_exporter": "python",
   "pygments_lexer": "ipython3",
   "version": "3.6.7"
  },
  "nav_menu": {},
  "toc": {
   "navigate_menu": true,
   "number_sections": false,
   "sideBar": false,
   "threshold": 6,
   "toc_cell": true,
   "toc_section_display": "block",
   "toc_window_display": false
  }
 },
 "nbformat": 4,
 "nbformat_minor": 4
}
